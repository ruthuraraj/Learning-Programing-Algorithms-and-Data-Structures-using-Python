{
  "nbformat": 4,
  "nbformat_minor": 0,
  "metadata": {
    "colab": {
      "provenance": [],
      "authorship_tag": "ABX9TyOhj44JWcU6ShTGNTZBnIxn",
      "include_colab_link": true
    },
    "kernelspec": {
      "name": "python3",
      "display_name": "Python 3"
    },
    "language_info": {
      "name": "python"
    }
  },
  "cells": [
    {
      "cell_type": "markdown",
      "metadata": {
        "id": "view-in-github",
        "colab_type": "text"
      },
      "source": [
        "<a href=\"https://colab.research.google.com/github/ruthuraraj/Learning-Programing-Algorithms-and-Data-Structures-using-Python/blob/main/Recursion_and_Backtracking.ipynb\" target=\"_parent\"><img src=\"https://colab.research.google.com/assets/colab-badge.svg\" alt=\"Open In Colab\"/></a>"
      ]
    },
    {
      "cell_type": "markdown",
      "source": [
        "# **Sub Set**"
      ],
      "metadata": {
        "id": "xbgZhxpUrIhZ"
      }
    },
    {
      "cell_type": "code",
      "execution_count": null,
      "metadata": {
        "id": "1iQDr7Cuv7nm"
      },
      "outputs": [],
      "source": [
        "def sub_set(item):\n",
        "     if len(item) == 0:\n",
        "             return [[]]\n",
        "     sub_set_list = [item]\n",
        "     for i in range(len(item)):\n",
        "             item_1 = item[:i] + item[i + 1:]\n",
        "             rec_list = sub_set(item_1)\n",
        "             for rec in rec_list:\n",
        "                     if rec not in sub_set_list:\n",
        "                             sub_set_list.append(rec)\n",
        "     return sub_set_list"
      ]
    },
    {
      "cell_type": "code",
      "source": [
        "def sub_set(item):\n",
        "    if len(item) == 0:\n",
        "        return [[]]\n",
        "    first = item[0]\n",
        "    rest = item[1:]\n",
        "\n",
        "    subsets_without_first = sub_set(rest)\n",
        "    subsets_with_first = [[first] + sub for sub in subsets_without_first]\n",
        "\n",
        "    return subsets_without_first + subsets_with_first"
      ],
      "metadata": {
        "id": "iaySI_fQ1FqR"
      },
      "execution_count": null,
      "outputs": []
    },
    {
      "cell_type": "code",
      "source": [
        "sub_set([1, 2, 3])"
      ],
      "metadata": {
        "colab": {
          "base_uri": "https://localhost:8080/"
        },
        "id": "FGrFm7UnwHa_",
        "outputId": "cbce455e-5823-46be-8666-4e967d4bb79c"
      },
      "execution_count": null,
      "outputs": [
        {
          "output_type": "execute_result",
          "data": {
            "text/plain": [
              "[[]]"
            ]
          },
          "metadata": {},
          "execution_count": 4
        }
      ]
    },
    {
      "cell_type": "code",
      "source": [
        "sub_set([1, 2, 3])"
      ],
      "metadata": {
        "colab": {
          "base_uri": "https://localhost:8080/"
        },
        "id": "s-3Xm7zu1HN-",
        "outputId": "4f6b92c3-b341-41ee-ba9b-2e2fa7620ed1"
      },
      "execution_count": null,
      "outputs": [
        {
          "output_type": "execute_result",
          "data": {
            "text/plain": [
              "[[], [3], [2], [2, 3], [1], [1, 3], [1, 2], [1, 2, 3]]"
            ]
          },
          "metadata": {},
          "execution_count": 19
        }
      ]
    },
    {
      "cell_type": "code",
      "source": [
        "def sub_set(item, level=0):\n",
        "    indent = \"  \" * level  # visual indentation based on depth\n",
        "    print(f\"{indent}sub_set({item}) called\")\n",
        "\n",
        "    if len(item) == 0:\n",
        "        print(f\"{indent}→ returns [[]]\")\n",
        "        return [[]]\n",
        "\n",
        "    first_element = [item[0]]\n",
        "    rest = item[1:]\n",
        "\n",
        "    # Recursive calls\n",
        "    without_first = sub_set(rest, level + 1)\n",
        "    with_first = [first_element + subset for subset in without_first]\n",
        "\n",
        "    combined = without_first + with_first\n",
        "    print(f\"{indent}→ returns {combined}\")\n",
        "    return combined"
      ],
      "metadata": {
        "id": "64hF2fR-aYfr"
      },
      "execution_count": null,
      "outputs": []
    },
    {
      "cell_type": "code",
      "source": [
        "sub_set([1, 2, 3])"
      ],
      "metadata": {
        "colab": {
          "base_uri": "https://localhost:8080/"
        },
        "id": "UHoh5FV4adnp",
        "outputId": "9941e068-fd24-4914-abdc-b8e9682cc88f"
      },
      "execution_count": null,
      "outputs": [
        {
          "output_type": "stream",
          "name": "stdout",
          "text": [
            "sub_set([1, 2, 3]) called\n",
            "  sub_set([2, 3]) called\n",
            "    sub_set([3]) called\n",
            "      sub_set([]) called\n",
            "      → returns [[]]\n",
            "    → returns [[], [3]]\n",
            "  → returns [[], [3], [2], [2, 3]]\n",
            "→ returns [[], [3], [2], [2, 3], [1], [1, 3], [1, 2], [1, 2, 3]]\n"
          ]
        },
        {
          "output_type": "execute_result",
          "data": {
            "text/plain": [
              "[[], [3], [2], [2, 3], [1], [1, 3], [1, 2], [1, 2, 3]]"
            ]
          },
          "metadata": {},
          "execution_count": 3
        }
      ]
    },
    {
      "cell_type": "markdown",
      "source": [
        "# **Combinations**"
      ],
      "metadata": {
        "id": "qNwX1Xt7q-Ob"
      }
    },
    {
      "cell_type": "code",
      "source": [
        "def combinations(item, k):\n",
        "  if k < 1:\n",
        "      return \"value of k should be positive integer\"\n",
        "  if k > len(item):\n",
        "      return [[]]\n",
        "  combination_list = []\n",
        "  for i in range(len(item)):\n",
        "    item_1 = item[i+ 1:]\n",
        "    sub_comb = combinations(item_1, k)\n",
        "    for comb in sub_comb:\n",
        "      combination_list.append([item[i]] + comb)\n",
        "  return combination_list"
      ],
      "metadata": {
        "id": "Vk7C4CC8thuO"
      },
      "execution_count": null,
      "outputs": []
    },
    {
      "cell_type": "code",
      "source": [
        "combinations([1, 2, 3, 4], 2)"
      ],
      "metadata": {
        "colab": {
          "base_uri": "https://localhost:8080/"
        },
        "id": "GDrRkhP4ujdm",
        "outputId": "7da2b901-66f0-41ab-8e20-a06a920f521f"
      },
      "execution_count": null,
      "outputs": [
        {
          "output_type": "execute_result",
          "data": {
            "text/plain": [
              "[[1, 2, 3], [1, 2, 4], [1, 3], [1, 4], [2, 3], [2, 4], [3], [4]]"
            ]
          },
          "metadata": {},
          "execution_count": 34
        }
      ]
    },
    {
      "cell_type": "code",
      "source": [
        "def combinations(item, k):\n",
        "    if k < 0:\n",
        "      return \"Value of k must be positive integer\"\n",
        "    if k == 0:\n",
        "      return [[]]\n",
        "    if len(item) < k:\n",
        "      return []\n",
        "    first = item[0]\n",
        "    rest = item[1:]\n",
        "\n",
        "    without_first = combinations(rest, k)\n",
        "    with_first = [[first] + sub for sub in combinations(rest, k - 1)]\n",
        "\n",
        "    return without_first + with_first"
      ],
      "metadata": {
        "id": "VjVnhaq71T5M"
      },
      "execution_count": null,
      "outputs": []
    },
    {
      "cell_type": "code",
      "source": [
        "combinations([1, 2, 3], 2)"
      ],
      "metadata": {
        "colab": {
          "base_uri": "https://localhost:8080/"
        },
        "id": "VLyG8dnz2rfo",
        "outputId": "73aef9fa-5046-4076-e869-a9002a9a60c3"
      },
      "execution_count": null,
      "outputs": [
        {
          "output_type": "execute_result",
          "data": {
            "text/plain": [
              "[[2, 3], [1, 3], [1, 2]]"
            ]
          },
          "metadata": {},
          "execution_count": 44
        }
      ]
    },
    {
      "cell_type": "markdown",
      "source": [
        "# **Dynamic Programing**"
      ],
      "metadata": {
        "id": "Ig6-FUb7SwtV"
      }
    },
    {
      "cell_type": "code",
      "source": [
        "def paths(steps):\n",
        "  path_dict = {1: [[1]], 2: [[1, 1], [2]]}\n",
        "  if steps < 1:\n",
        "    return \"Enter valid number of steps\"\n",
        "  if not steps in path_dict:\n",
        "    for step in range(3, steps + 1):\n",
        "      path_dict[step] = [[1] + path for path in path_dict[step - 1]] + [[2] + path for path in path_dict[step - 2]]\n",
        "  return path_dict[steps]"
      ],
      "metadata": {
        "id": "xxZNHn6NS6Qs"
      },
      "execution_count": null,
      "outputs": []
    },
    {
      "cell_type": "code",
      "source": [
        "paths(5)"
      ],
      "metadata": {
        "colab": {
          "base_uri": "https://localhost:8080/"
        },
        "id": "f8jdpTd0TIpV",
        "outputId": "7f46e05d-fe0e-4dc1-b563-18c624d9a12d"
      },
      "execution_count": null,
      "outputs": [
        {
          "output_type": "execute_result",
          "data": {
            "text/plain": [
              "[[1, 1, 1, 1, 1],\n",
              " [1, 1, 1, 2],\n",
              " [1, 1, 2, 1],\n",
              " [1, 2, 1, 1],\n",
              " [1, 2, 2],\n",
              " [2, 1, 1, 1],\n",
              " [2, 1, 2],\n",
              " [2, 2, 1]]"
            ]
          },
          "metadata": {},
          "execution_count": 12
        }
      ]
    },
    {
      "cell_type": "markdown",
      "source": [
        "# **Backtracking**"
      ],
      "metadata": {
        "id": "vnl_UNPXI3CC"
      }
    },
    {
      "cell_type": "markdown",
      "source": [
        "# **Valid Path**"
      ],
      "metadata": {
        "id": "K7sGkRuLlxHq"
      }
    },
    {
      "cell_type": "code",
      "source": [
        "def paths(steps, allowed_steps, current_path = None, path_list = None):\n",
        "     if current_path is None:\n",
        "             current_path = []\n",
        "     if path_list is None:\n",
        "             path_list = []\n",
        "     remaining_steps = steps\n",
        "     if remaining_steps == 0:\n",
        "             path_list.append(current_path[:])\n",
        "     if remaining_steps < 0:\n",
        "             return\n",
        "     for next_step in allowed_steps:\n",
        "             current_path.append(next_step)\n",
        "             paths(remaining_steps - next_step, allowed_steps, current_path, path_list)\n",
        "             current_path.pop()\n",
        "     return path_list"
      ],
      "metadata": {
        "id": "pxav0CU7I_hv"
      },
      "execution_count": null,
      "outputs": []
    },
    {
      "cell_type": "code",
      "source": [
        "paths(5, [1, 2, 3, 4, 5])"
      ],
      "metadata": {
        "colab": {
          "base_uri": "https://localhost:8080/"
        },
        "id": "Yh45PSFxJbT3",
        "outputId": "01fcfe5c-8b68-4ac8-c794-be7242ec3666"
      },
      "execution_count": null,
      "outputs": [
        {
          "output_type": "execute_result",
          "data": {
            "text/plain": [
              "[[1, 1, 1, 1, 1],\n",
              " [1, 1, 1, 2],\n",
              " [1, 1, 2, 1],\n",
              " [1, 1, 3],\n",
              " [1, 2, 1, 1],\n",
              " [1, 2, 2],\n",
              " [1, 3, 1],\n",
              " [1, 4],\n",
              " [2, 1, 1, 1],\n",
              " [2, 1, 2],\n",
              " [2, 2, 1],\n",
              " [2, 3],\n",
              " [3, 1, 1],\n",
              " [3, 2],\n",
              " [4, 1],\n",
              " [5]]"
            ]
          },
          "metadata": {},
          "execution_count": 3
        }
      ]
    },
    {
      "cell_type": "markdown",
      "source": [
        "# **Combination Sum**"
      ],
      "metadata": {
        "id": "2K8n9gFVl8J4"
      }
    },
    {
      "cell_type": "code",
      "source": [
        "def combination_sum(nums, target, start_index = None, current_path = None, sum_list = None):\n",
        "  nums = sorted(nums)\n",
        "  if current_path is None:\n",
        "    current_path = []\n",
        "  if sum_list is None:\n",
        "    sum_list = []\n",
        "  if start_index is None:\n",
        "    start_index = 0\n",
        "  remaining_target = target\n",
        "  if remaining_target == 0:\n",
        "    sum_list.append(current_path[:])\n",
        "  if remaining_target < 0:\n",
        "    return\n",
        "  for i in range(start_index, len(nums)):\n",
        "    current_path.append(nums[i])\n",
        "    combination_sum(nums, remaining_target - nums[i], i, current_path, sum_list)\n",
        "    current_path.pop()\n",
        "  return sum_list"
      ],
      "metadata": {
        "id": "VE7deHVoVabh"
      },
      "execution_count": null,
      "outputs": []
    },
    {
      "cell_type": "code",
      "source": [
        "combination_sum([3, 6, 7, 9], 6)"
      ],
      "metadata": {
        "colab": {
          "base_uri": "https://localhost:8080/"
        },
        "id": "265jNex_Wbly",
        "outputId": "c0056f15-2c0d-44f5-d7c5-fe8a67dede21"
      },
      "execution_count": null,
      "outputs": [
        {
          "output_type": "execute_result",
          "data": {
            "text/plain": [
              "[[3, 3], [6]]"
            ]
          },
          "metadata": {},
          "execution_count": 6
        }
      ]
    },
    {
      "cell_type": "markdown",
      "source": [
        "# **Combination Sum II(without duplicates)**"
      ],
      "metadata": {
        "id": "dHcCmHMN76QE"
      }
    },
    {
      "cell_type": "code",
      "source": [
        "def combination_sum(nums, target, start_index = None, current_path = None, sum_list = None):\n",
        "  nums = sorted(nums)\n",
        "  if current_path is None:\n",
        "    current_path = []\n",
        "  if sum_list is None:\n",
        "    sum_list = []\n",
        "  if start_index is None:\n",
        "    start_index = 0\n",
        "  remaining_target = target\n",
        "  if remaining_target == 0:\n",
        "    sum_list.append(current_path[:])\n",
        "  if remaining_target < 0:\n",
        "    return\n",
        "  for i in range(start_index, len(nums)):\n",
        "    if i > start_index and nums[i] == nums[i - 1]:\n",
        "      continue\n",
        "    current_path.append(nums[i])\n",
        "    combination_sum(nums, remaining_target - nums[i], i + 1, current_path, sum_list)\n",
        "    current_path.pop()\n",
        "  return sum_list"
      ],
      "metadata": {
        "id": "-5xxl_7B8Esb"
      },
      "execution_count": null,
      "outputs": []
    },
    {
      "cell_type": "code",
      "source": [
        "combination_sum([1, 2, 3, 4, 5], 14)"
      ],
      "metadata": {
        "colab": {
          "base_uri": "https://localhost:8080/"
        },
        "id": "DpZ6-8wk8jR1",
        "outputId": "f3a3538f-4fcf-43ec-b94e-8ba5db1d8039"
      },
      "execution_count": null,
      "outputs": [
        {
          "output_type": "execute_result",
          "data": {
            "text/plain": [
              "[[2, 3, 4, 5]]"
            ]
          },
          "metadata": {},
          "execution_count": 4
        }
      ]
    },
    {
      "cell_type": "markdown",
      "source": [
        "# **Combination Sum III(without duplicates)**"
      ],
      "metadata": {
        "id": "7w-NjJRE3MAx"
      }
    },
    {
      "cell_type": "code",
      "source": [
        "def combination_sumIII(k, n, start_index = None, current_path = None, total_combinations = None):\n",
        "  if start_index is None:\n",
        "    start_index = 1\n",
        "  if current_path is None:\n",
        "    current_path = []\n",
        "  if total_combinations is None:\n",
        "    total_combinations = []\n",
        "  if n == 0 and len(current_path) == k:\n",
        "    total_combinations.append(current_path[:])\n",
        "  if n < 0:\n",
        "    return\n",
        "  for num in range(start_index, 10):\n",
        "    current_path.append(num)\n",
        "    combination_sumIII(k, n - num, num + 1, current_path, total_combinations)\n",
        "    current_path.pop()\n",
        "  return total_combinations\n"
      ],
      "metadata": {
        "id": "JzDUt3LT1tFj"
      },
      "execution_count": null,
      "outputs": []
    },
    {
      "cell_type": "code",
      "source": [
        "combination_sumIII(2, 9)"
      ],
      "metadata": {
        "colab": {
          "base_uri": "https://localhost:8080/"
        },
        "id": "jlJMA6wJ3toD",
        "outputId": "0ac5d05f-48d2-454d-b7b4-777133624e1d"
      },
      "execution_count": null,
      "outputs": [
        {
          "output_type": "execute_result",
          "data": {
            "text/plain": [
              "[[1, 8], [2, 7], [3, 6], [4, 5]]"
            ]
          },
          "metadata": {},
          "execution_count": 31
        }
      ]
    },
    {
      "cell_type": "markdown",
      "source": [
        "# **Generate Parentheses**"
      ],
      "metadata": {
        "id": "pX1c7aBrygI8"
      }
    },
    {
      "cell_type": "code",
      "source": [
        "def parentheses(n, open_counter = None, close_counter = None, current_path = None, total_combinations = None):\n",
        "  if open_counter is None:\n",
        "    open_counter = 0\n",
        "  if close_counter is None:\n",
        "    close_counter = 0\n",
        "  if current_path is None:\n",
        "    current_path = []\n",
        "  if total_combinations is None:\n",
        "    total_combinations = []\n",
        "  if len(current_path) == n * 2:\n",
        "    total_combinations.append(\"\".join(current_path[:]))\n",
        "  open, close = \"(\", \")\"\n",
        "  if open_counter < n:\n",
        "    current_path.append(open)\n",
        "    parentheses(n, open_counter + 1, close_counter, current_path, total_combinations)\n",
        "    current_path.pop()\n",
        "  if open_counter > close_counter:\n",
        "    current_path.append(close)\n",
        "    parentheses(n, open_counter, close_counter + 1, current_path, total_combinations)\n",
        "    current_path.pop()\n",
        "  return total_combinations"
      ],
      "metadata": {
        "id": "zzKGE5Beymyp"
      },
      "execution_count": null,
      "outputs": []
    },
    {
      "cell_type": "code",
      "source": [
        "parentheses(1)"
      ],
      "metadata": {
        "colab": {
          "base_uri": "https://localhost:8080/"
        },
        "id": "bKnLLRwh0Mab",
        "outputId": "f800ee83-0cc0-4c09-fa39-3385f2061812"
      },
      "execution_count": null,
      "outputs": [
        {
          "output_type": "execute_result",
          "data": {
            "text/plain": [
              "['()']"
            ]
          },
          "metadata": {},
          "execution_count": 35
        }
      ]
    },
    {
      "cell_type": "markdown",
      "source": [
        "# **Sub Set Generation**"
      ],
      "metadata": {
        "id": "335bA2CnmBMA"
      }
    },
    {
      "cell_type": "code",
      "source": [
        "def sub_set(nums, current_path = None, total_subset = None, start_index = None):\n",
        "  if current_path is None:\n",
        "    current_path = []\n",
        "  if total_subset is None:\n",
        "    total_subset = []\n",
        "  if start_index is None:\n",
        "    start_index = 0\n",
        "  total_subset.append(current_path[:])\n",
        "  for i in range(start_index, len(nums)):\n",
        "    current_path.append(nums[i])\n",
        "    sub_set(nums, current_path, total_subset, i + 1)\n",
        "    current_path.pop()\n",
        "  return total_subset\n"
      ],
      "metadata": {
        "id": "xm4JPVBjmJoP"
      },
      "execution_count": null,
      "outputs": []
    },
    {
      "cell_type": "code",
      "source": [
        "sub_set([1, 2, 3])"
      ],
      "metadata": {
        "colab": {
          "base_uri": "https://localhost:8080/"
        },
        "id": "BHcuHZhpobya",
        "outputId": "04adf4bd-38e2-4350-d3d0-7c700e758cee"
      },
      "execution_count": null,
      "outputs": [
        {
          "output_type": "execute_result",
          "data": {
            "text/plain": [
              "[[], [1], [1, 2], [1, 2, 3], [1, 3], [2], [2, 3], [3]]"
            ]
          },
          "metadata": {},
          "execution_count": 35
        }
      ]
    },
    {
      "cell_type": "markdown",
      "source": [
        "# **Subset II**"
      ],
      "metadata": {
        "id": "d17FN29ayF-i"
      }
    },
    {
      "cell_type": "code",
      "source": [
        "def sub_setII(nums, start_index = None, current_path = None, total_subset = None):\n",
        "  if start_index is None:\n",
        "    start_index = 0\n",
        "    nums = sorted(nums)\n",
        "  if current_path is None:\n",
        "    current_path = []\n",
        "  if total_subset is None:\n",
        "    total_subset = []\n",
        "  total_subset.append(current_path[:])\n",
        "  for index in range(start_index, len(nums)):\n",
        "    if index > start_index and nums[index] == nums[index - 1]:\n",
        "      continue\n",
        "    current_path.append(nums[index])\n",
        "    sub_setII(nums, index + 1, current_path, total_subset)\n",
        "    current_path.pop()\n",
        "  return total_subset"
      ],
      "metadata": {
        "id": "-wK771WzyFkt"
      },
      "execution_count": null,
      "outputs": []
    },
    {
      "cell_type": "code",
      "source": [
        "sub_setII([1, 2, 4, 2, 3, 3])"
      ],
      "metadata": {
        "colab": {
          "base_uri": "https://localhost:8080/"
        },
        "id": "ugsgB7Usyn8G",
        "outputId": "1bbc3f17-741f-48dd-96a3-5688d631efd0"
      },
      "execution_count": null,
      "outputs": [
        {
          "output_type": "execute_result",
          "data": {
            "text/plain": [
              "[[],\n",
              " [1],\n",
              " [1, 2],\n",
              " [1, 2, 2],\n",
              " [1, 2, 2, 3],\n",
              " [1, 2, 2, 3, 3],\n",
              " [1, 2, 2, 3, 3, 4],\n",
              " [1, 2, 2, 3, 4],\n",
              " [1, 2, 2, 4],\n",
              " [1, 2, 3],\n",
              " [1, 2, 3, 3],\n",
              " [1, 2, 3, 3, 4],\n",
              " [1, 2, 3, 4],\n",
              " [1, 2, 4],\n",
              " [1, 3],\n",
              " [1, 3, 3],\n",
              " [1, 3, 3, 4],\n",
              " [1, 3, 4],\n",
              " [1, 4],\n",
              " [2],\n",
              " [2, 2],\n",
              " [2, 2, 3],\n",
              " [2, 2, 3, 3],\n",
              " [2, 2, 3, 3, 4],\n",
              " [2, 2, 3, 4],\n",
              " [2, 2, 4],\n",
              " [2, 3],\n",
              " [2, 3, 3],\n",
              " [2, 3, 3, 4],\n",
              " [2, 3, 4],\n",
              " [2, 4],\n",
              " [3],\n",
              " [3, 3],\n",
              " [3, 3, 4],\n",
              " [3, 4],\n",
              " [4]]"
            ]
          },
          "metadata": {},
          "execution_count": 5
        }
      ]
    },
    {
      "cell_type": "markdown",
      "source": [
        "# **Subset- Sum**"
      ],
      "metadata": {
        "id": "zQuoHghIuOzt"
      }
    },
    {
      "cell_type": "code",
      "source": [
        "def subset_sum(nums, target, start_index = None, current_path = None, total_subset = None):\n",
        "  if current_path is None:\n",
        "    current_path = []\n",
        "  if total_subset is None:\n",
        "    total_subset = []\n",
        "  if start_index is None:\n",
        "    nums = sorted(nums)\n",
        "    start_index = 0\n",
        "  if target == 0:\n",
        "    total_subset.append(current_path[:])\n",
        "  if target < 0:\n",
        "    return\n",
        "  for index in range(start_index, len(nums)):\n",
        "    if index > start_index and nums[index] == nums[index - 1]:\n",
        "      continue\n",
        "    current_path.append(nums[index])\n",
        "    subset_sum(nums, target - nums[index], index + 1, current_path, total_subset)\n",
        "    current_path.pop()\n",
        "  return total_subset"
      ],
      "metadata": {
        "id": "1qw5ozA7uU1g"
      },
      "execution_count": null,
      "outputs": []
    },
    {
      "cell_type": "code",
      "source": [
        "subset_sum([2, -1, 1, -2, 3], 2)"
      ],
      "metadata": {
        "colab": {
          "base_uri": "https://localhost:8080/"
        },
        "id": "tBjqLxWnu8LC",
        "outputId": "e41376a9-3652-498f-d866-4b80d07105aa"
      },
      "execution_count": null,
      "outputs": [
        {
          "output_type": "execute_result",
          "data": {
            "text/plain": [
              "[[-2, -1, 2, 3], [-2, 1, 3], [-1, 1, 2], [-1, 3], [2]]"
            ]
          },
          "metadata": {},
          "execution_count": 55
        }
      ]
    },
    {
      "cell_type": "code",
      "source": [
        "def subset_sum_counter(nums, target, start_index = None, current_path = None):\n",
        "  if current_path is None:\n",
        "    current_path = []\n",
        "  if start_index is None:\n",
        "    nums = sorted(nums)\n",
        "    start_index = 0\n",
        "  if target == 0:\n",
        "    return 1\n",
        "  if target < 0:\n",
        "    return 0\n",
        "  total_subsets = 0\n",
        "  for index in range(start_index, len(nums)):\n",
        "    if index > start_index and nums[index] == nums[index - 1]:\n",
        "      continue\n",
        "    current_path.append(nums[index])\n",
        "    total_subsets += subset_sum_counter(nums, target - nums[index], index + 1, current_path)\n",
        "    current_path.pop()\n",
        "  return total_subsets"
      ],
      "metadata": {
        "id": "90BBEo-Cx5Jr"
      },
      "execution_count": null,
      "outputs": []
    },
    {
      "cell_type": "code",
      "source": [
        "subset_sum_counter([2, -1, 1, -2, 3], 2)"
      ],
      "metadata": {
        "colab": {
          "base_uri": "https://localhost:8080/"
        },
        "id": "IwImr6U7yKvg",
        "outputId": "7172968b-085e-436d-e23f-349cc6554323"
      },
      "execution_count": null,
      "outputs": [
        {
          "output_type": "execute_result",
          "data": {
            "text/plain": [
              "5"
            ]
          },
          "metadata": {},
          "execution_count": 68
        }
      ]
    },
    {
      "cell_type": "markdown",
      "source": [
        "# **Subset- Sum- Negative Numbers**"
      ],
      "metadata": {
        "id": "KOVJ2Bo45BnQ"
      }
    },
    {
      "cell_type": "code",
      "source": [
        "def subset_sum_counter(nums, target, start_index = None, current_path = None):\n",
        "  if current_path is None:\n",
        "    current_path = []\n",
        "  if start_index is None:\n",
        "    nums = sorted(nums)\n",
        "    start_index = 0\n",
        "  if target == 0:\n",
        "    return 1\n",
        "  total_subsets = 0\n",
        "  for index in range(start_index, len(nums)):\n",
        "    if index > start_index and nums[index] == nums[index - 1]:\n",
        "      continue\n",
        "    current_path.append(nums[index])\n",
        "    total_subsets += subset_sum_counter(nums, target - nums[index], index + 1, current_path)\n",
        "    current_path.pop()\n",
        "  return total_subsets"
      ],
      "metadata": {
        "id": "Uak-9mmG47T8"
      },
      "execution_count": null,
      "outputs": []
    },
    {
      "cell_type": "code",
      "source": [
        "subset_sum_counter([2, -1, 1, -2, 3], 2)"
      ],
      "metadata": {
        "colab": {
          "base_uri": "https://localhost:8080/"
        },
        "id": "Z7PChHmu5HtX",
        "outputId": "f5f17ff2-aacc-4d82-8f91-d18ac26eacff"
      },
      "execution_count": null,
      "outputs": [
        {
          "output_type": "execute_result",
          "data": {
            "text/plain": [
              "5"
            ]
          },
          "metadata": {},
          "execution_count": 70
        }
      ]
    },
    {
      "cell_type": "markdown",
      "source": [
        "# **Permutations**"
      ],
      "metadata": {
        "id": "EG4pN0t8nsAh"
      }
    },
    {
      "cell_type": "code",
      "source": [
        "def permutations(items, current_path = None, total_permutations = None, used = None):\n",
        "  if current_path is None:\n",
        "    current_path = []\n",
        "  if total_permutations is None:\n",
        "    total_permutations = []\n",
        "  if used is None:\n",
        "    used = [False] * len(items)\n",
        "  if len(current_path) == len(items):\n",
        "    total_permutations.append(current_path[:])\n",
        "  for index in range(len(items)):\n",
        "    if used[index]:\n",
        "      continue\n",
        "    used[index] = True\n",
        "    current_path.append(items[index])\n",
        "    permutations(items, current_path, total_permutations, used)\n",
        "    current_path.pop()\n",
        "    used[index] = False\n",
        "  return total_permutations\n"
      ],
      "metadata": {
        "id": "rUIRvTesnrdr"
      },
      "execution_count": null,
      "outputs": []
    },
    {
      "cell_type": "code",
      "source": [
        "permutations([1, 2, 3])"
      ],
      "metadata": {
        "colab": {
          "base_uri": "https://localhost:8080/"
        },
        "id": "WpBZ8xQ2qor7",
        "outputId": "acc13408-1802-440c-9447-3b22520e07c2"
      },
      "execution_count": null,
      "outputs": [
        {
          "output_type": "execute_result",
          "data": {
            "text/plain": [
              "[[1, 2, 3], [1, 3, 2], [2, 1, 3], [2, 3, 1], [3, 1, 2], [3, 2, 1]]"
            ]
          },
          "metadata": {},
          "execution_count": 5
        }
      ]
    },
    {
      "cell_type": "markdown",
      "source": [
        "# **Permutations- Unique**"
      ],
      "metadata": {
        "id": "WeTi2lgcHpWL"
      }
    },
    {
      "cell_type": "code",
      "source": [
        "def permutations(items, current_path = None, total_permutations = None, used = None):\n",
        "  if current_path is None:\n",
        "    current_path = []\n",
        "  if total_permutations is None:\n",
        "    total_permutations = []\n",
        "  if used is None:\n",
        "    items = sorted(items)\n",
        "    used = [False] * len(items)\n",
        "  if len(current_path) == len(items):\n",
        "    total_permutations.append(current_path[:])\n",
        "  for index in range(len(items)):\n",
        "    if index > 0 and items[index] == items[index - 1] and not used[index - 1]:\n",
        "      continue\n",
        "    if used[index]:\n",
        "      continue\n",
        "    used[index] = True\n",
        "    current_path.append(items[index])\n",
        "    permutations(items, current_path, total_permutations, used)\n",
        "    current_path.pop()\n",
        "    used[index] = False\n",
        "  return total_permutations"
      ],
      "metadata": {
        "id": "EK2ZJffcHxQw"
      },
      "execution_count": null,
      "outputs": []
    },
    {
      "cell_type": "code",
      "source": [
        "permutations(items=[3,3,0,3, 0])"
      ],
      "metadata": {
        "colab": {
          "base_uri": "https://localhost:8080/"
        },
        "id": "RipL64m2IJ9T",
        "outputId": "2a20f44e-d10c-4384-a5bd-fdf7f199cefe"
      },
      "execution_count": null,
      "outputs": [
        {
          "output_type": "execute_result",
          "data": {
            "text/plain": [
              "[[0, 0, 3, 3, 3],\n",
              " [0, 3, 0, 3, 3],\n",
              " [0, 3, 3, 0, 3],\n",
              " [0, 3, 3, 3, 0],\n",
              " [3, 0, 0, 3, 3],\n",
              " [3, 0, 3, 0, 3],\n",
              " [3, 0, 3, 3, 0],\n",
              " [3, 3, 0, 0, 3],\n",
              " [3, 3, 0, 3, 0],\n",
              " [3, 3, 3, 0, 0]]"
            ]
          },
          "metadata": {},
          "execution_count": 16
        }
      ]
    },
    {
      "cell_type": "markdown",
      "source": [
        "# **Next- Permutation**"
      ],
      "metadata": {
        "id": "wmdcwE7U_HB5"
      }
    },
    {
      "cell_type": "code",
      "source": [
        "def next_permutations(items):\n",
        "  for i in range(len(items) - 2, -1, -1):\n",
        "    if items[i] < items[i + 1]:\n",
        "      pivot_index = i\n",
        "      print(pivot_index)\n",
        "      break\n",
        "  else:\n",
        "    return items[::-1]\n",
        "  for j in range(len(items) - 1, pivot_index, -1):\n",
        "    if items[j] > items[pivot_index]:\n",
        "      print(items[j])\n",
        "      items[pivot_index], items[j] = items[j], items[pivot_index]\n",
        "      break\n",
        "  items[pivot_index + 1:] = reversed(items[pivot_index + 1:])\n",
        "  return items\n"
      ],
      "metadata": {
        "id": "-SODj70A_Nf7"
      },
      "execution_count": null,
      "outputs": []
    },
    {
      "cell_type": "code",
      "source": [
        "next_permutations(['e','i','b','j','d','h','g','f','c','a'])"
      ],
      "metadata": {
        "colab": {
          "base_uri": "https://localhost:8080/"
        },
        "id": "1BeYQnP2_13V",
        "outputId": "5131d309-4e21-4413-b035-65d560b58c0d"
      },
      "execution_count": null,
      "outputs": [
        {
          "output_type": "stream",
          "name": "stdout",
          "text": [
            "4\n",
            "f\n"
          ]
        },
        {
          "output_type": "execute_result",
          "data": {
            "text/plain": [
              "['e', 'i', 'b', 'j', 'f', 'a', 'c', 'd', 'g', 'h']"
            ]
          },
          "metadata": {},
          "execution_count": 2
        }
      ]
    },
    {
      "cell_type": "markdown",
      "source": [
        "# **Partition**"
      ],
      "metadata": {
        "id": "MGHKJ2QRQWJX"
      }
    },
    {
      "cell_type": "code",
      "source": [
        "def partition(s, next_index = None, current_path = None, total_substring = None):\n",
        "  if next_index is None:\n",
        "    next_index = 0\n",
        "  if current_path is None:\n",
        "    current_path = []\n",
        "  if total_substring is None:\n",
        "    total_substring = []\n",
        "  if next_index == len(s):\n",
        "    total_substring.append(current_path[:])\n",
        "  for i in range(next_index, len(s)):\n",
        "    sub_string = s[next_index: i + 1]\n",
        "    if sub_string == sub_string[::-1]:\n",
        "      current_path.append(sub_string)\n",
        "      partition(s, i + 1, current_path, total_substring)\n",
        "      current_path.pop()\n",
        "  return total_substring"
      ],
      "metadata": {
        "id": "FQ852S3UQcuF"
      },
      "execution_count": null,
      "outputs": []
    },
    {
      "cell_type": "code",
      "source": [
        "partition(\"racecar\")"
      ],
      "metadata": {
        "colab": {
          "base_uri": "https://localhost:8080/"
        },
        "id": "SX6ta3OXSccO",
        "outputId": "8baae349-6b6c-46ee-d87a-76768cb7fb3e"
      },
      "execution_count": null,
      "outputs": [
        {
          "output_type": "execute_result",
          "data": {
            "text/plain": [
              "[['r', 'a', 'c', 'e', 'c', 'a', 'r'],\n",
              " ['r', 'a', 'cec', 'a', 'r'],\n",
              " ['r', 'aceca', 'r'],\n",
              " ['racecar']]"
            ]
          },
          "metadata": {},
          "execution_count": 3
        }
      ]
    },
    {
      "cell_type": "markdown",
      "source": [
        "# **Letter Case Permutation**"
      ],
      "metadata": {
        "id": "Vrd6kWXfXxgq"
      }
    },
    {
      "cell_type": "code",
      "source": [
        "def transform(s, next_index= None, current_path = None, transformations = None):\n",
        "  if next_index is None:\n",
        "    next_index = 0\n",
        "  if current_path is None:\n",
        "    current_path = []\n",
        "  if transformations is None:\n",
        "    transformations = []\n",
        "  if len(current_path) == len(s):\n",
        "    transformations.append(\"\".join(current_path[:]))\n",
        "    return\n",
        "  if not s[next_index].isalpha():\n",
        "    current_path.append(s[next_index])\n",
        "    transform(s, next_index + 1, current_path, transformations)\n",
        "    current_path.pop()\n",
        "  if s[next_index].isalpha():\n",
        "    current_path.append(s[next_index].lower())\n",
        "    transform(s, next_index + 1, current_path, transformations)\n",
        "    current_path.pop()\n",
        "    current_path.append(s[next_index].upper())\n",
        "    transform(s, next_index + 1, current_path, transformations)\n",
        "    current_path.pop()\n",
        "  return transformations\n"
      ],
      "metadata": {
        "id": "w9w7fgz80kLw"
      },
      "execution_count": null,
      "outputs": []
    },
    {
      "cell_type": "code",
      "source": [
        "transform(\"a1B\")"
      ],
      "metadata": {
        "colab": {
          "base_uri": "https://localhost:8080/"
        },
        "id": "kj3WAsrXbDab",
        "outputId": "6db881bf-6ca3-4e56-f5f0-68677b600431"
      },
      "execution_count": null,
      "outputs": [
        {
          "output_type": "execute_result",
          "data": {
            "text/plain": [
              "['a1b', 'a1B', 'A1b', 'A1B']"
            ]
          },
          "metadata": {},
          "execution_count": 5
        }
      ]
    },
    {
      "cell_type": "markdown",
      "source": [
        "# **Restore IP Addresses**"
      ],
      "metadata": {
        "id": "scuNTODA7Jiu"
      }
    },
    {
      "cell_type": "code",
      "source": [
        "def IP_addresses(s, start_index = None, current_path = None, total_IP = None):\n",
        "  if start_index is None:\n",
        "    start_index = 0\n",
        "  if current_path is None:\n",
        "    current_path = []\n",
        "  if total_IP is None:\n",
        "    total_IP = []\n",
        "  if len(current_path) == 4 and start_index == len(s):\n",
        "    total_IP.append(\".\".join(current_path[:]))\n",
        "  for index in range(start_index, len(s)):\n",
        "    segment = s[start_index: index + 1]\n",
        "    if len(current_path) > 4:\n",
        "      return\n",
        "    if current_path:\n",
        "      remaining_characters = len(s) - start_index\n",
        "      remaining_parts = 4 - len(current_path)\n",
        "      if remaining_characters < remaining_parts or remaining_characters > remaining_parts * 3:\n",
        "        return\n",
        "    if int(segment) <= 255:\n",
        "      if len(segment) > 1 and segment[0] == 0:\n",
        "        break\n",
        "      current_path.append(segment)\n",
        "      IP_addresses(s, index + 1, current_path, total_IP)\n",
        "      current_path.pop()\n",
        "  return total_IP"
      ],
      "metadata": {
        "id": "5DFRDlae7JNx"
      },
      "execution_count": null,
      "outputs": []
    },
    {
      "cell_type": "code",
      "source": [
        "IP_addresses(\"19216811\")"
      ],
      "metadata": {
        "colab": {
          "base_uri": "https://localhost:8080/"
        },
        "id": "uR5PZMY4_UV5",
        "outputId": "2015313f-c694-4fe0-fde0-a65c790f3534"
      },
      "execution_count": null,
      "outputs": [
        {
          "output_type": "execute_result",
          "data": {
            "text/plain": [
              "['1.92.168.11',\n",
              " '19.2.168.11',\n",
              " '19.21.68.11',\n",
              " '19.216.8.11',\n",
              " '19.216.81.1',\n",
              " '192.1.68.11',\n",
              " '192.16.8.11',\n",
              " '192.16.81.1',\n",
              " '192.168.1.1']"
            ]
          },
          "metadata": {},
          "execution_count": 21
        }
      ]
    },
    {
      "cell_type": "markdown",
      "source": [
        "# **Word Break II**"
      ],
      "metadata": {
        "id": "Y7-wv4md3w2L"
      }
    },
    {
      "cell_type": "code",
      "source": [
        "def word_breakII(s, wordDict, start_index = None, memo = None):\n",
        "  if start_index is None:\n",
        "    start_index = 0\n",
        "  if memo is None:\n",
        "    memo = {}\n",
        "  if start_index in memo:\n",
        "      return memo[start_index]\n",
        "  if start_index == len(s):\n",
        "    return [\"\"]\n",
        "  sentences = []\n",
        "  for index in range(start_index, len(s)):\n",
        "    sub_string = s[start_index: index + 1]\n",
        "    if sub_string in wordDict:\n",
        "      rest_sentences = word_breakII(s, wordDict, index + 1, memo)\n",
        "      for word in rest_sentences:\n",
        "        sentences.append(sub_string + (\" \" + word if word else \"\"))\n",
        "  memo[start_index] = sentences\n",
        "  return sentences"
      ],
      "metadata": {
        "id": "1ucyGnLK3wiT"
      },
      "execution_count": null,
      "outputs": []
    },
    {
      "cell_type": "code",
      "source": [
        "word_breakII(\"catsanddog\", [\"cat\", \"cats\", \"and\", \"sand\", \"dog\"])"
      ],
      "metadata": {
        "colab": {
          "base_uri": "https://localhost:8080/"
        },
        "id": "qq0SfhJ2EX5t",
        "outputId": "70cdc6a8-634f-4743-b0fd-66ef0976d288"
      },
      "execution_count": null,
      "outputs": [
        {
          "output_type": "execute_result",
          "data": {
            "text/plain": [
              "['cat sand dog', 'cats and dog']"
            ]
          },
          "metadata": {},
          "execution_count": 3
        }
      ]
    },
    {
      "cell_type": "code",
      "source": [
        "def word_breakII(s, wordDict, start_index = None, current_path = None, total_words = None):\n",
        "  if start_index is None:\n",
        "    start_index = 0\n",
        "  if current_path is None:\n",
        "    current_path = []\n",
        "  if total_words is None:\n",
        "    total_words = []\n",
        "  if start_index == len(s):\n",
        "    total_words.append(\" \".join(current_path[:]))\n",
        "  for index in range(start_index, len(s)):\n",
        "    sub_string = s[start_index: index + 1]\n",
        "    if sub_string in wordDict:\n",
        "      current_path.append(sub_string)\n",
        "      word_breakII(s, wordDict, index + 1, current_path, total_words)\n",
        "      current_path.pop()\n",
        "  return total_words"
      ],
      "metadata": {
        "id": "CMHVGsCIFikV"
      },
      "execution_count": null,
      "outputs": []
    },
    {
      "cell_type": "code",
      "source": [
        "word_breakII(\"catsanddog\", [\"cat\", \"cats\", \"and\", \"sand\", \"dog\"])"
      ],
      "metadata": {
        "colab": {
          "base_uri": "https://localhost:8080/"
        },
        "id": "Ny5d76NhF4MC",
        "outputId": "f4ec256e-883c-492a-aa23-da964dffa679"
      },
      "execution_count": null,
      "outputs": [
        {
          "output_type": "execute_result",
          "data": {
            "text/plain": [
              "['cat sand dog', 'cats and dog']"
            ]
          },
          "metadata": {},
          "execution_count": 10
        }
      ]
    },
    {
      "cell_type": "markdown",
      "source": [
        "# **Word Break I**"
      ],
      "metadata": {
        "id": "kYKYDCCbbHBK"
      }
    },
    {
      "cell_type": "code",
      "source": [
        "def word_breakI(s, wordDict, start_index = None, memo = None):\n",
        "  if start_index is None:\n",
        "    start_index = 0\n",
        "  if memo is None:\n",
        "    memo = {}\n",
        "  if start_index in memo:\n",
        "    return memo[start_index]\n",
        "  if start_index == len(s):\n",
        "    return True\n",
        "  for index in range(start_index, len(s)):\n",
        "    sub_string = s[start_index: index + 1]\n",
        "    if sub_string in wordDict:\n",
        "      if word_breakI(s, wordDict, index + 1, memo):\n",
        "        memo[start_index] = True\n",
        "        return True\n",
        "  memo[start_index] = False\n",
        "  return False\n"
      ],
      "metadata": {
        "id": "LOIbTOixS-fV"
      },
      "execution_count": null,
      "outputs": []
    },
    {
      "cell_type": "code",
      "source": [
        "word_breakI(\"catsandog\", [\"cats\", \"dog\", \"sand\", \"and\", \"cat\", \"atsa\", \"an\", \"dog\"])"
      ],
      "metadata": {
        "colab": {
          "base_uri": "https://localhost:8080/"
        },
        "id": "ZzR-FKhPTsmE",
        "outputId": "7d56da11-e4e0-425e-d61e-7fd948a1f2b1"
      },
      "execution_count": null,
      "outputs": [
        {
          "output_type": "execute_result",
          "data": {
            "text/plain": [
              "False"
            ]
          },
          "metadata": {},
          "execution_count": 17
        }
      ]
    },
    {
      "cell_type": "code",
      "source": [
        "def word_breakI(s, wordDict, start_index = 0):\n",
        "  for index in range(start_index, len(s)):\n",
        "    sub_string = s[start_index: index + 1]\n",
        "    if sub_string in wordDict:\n",
        "      start_index = index + 1\n",
        "    if start_index == len(s):\n",
        "      return True\n",
        "  return False"
      ],
      "metadata": {
        "id": "3CqEQRIbmT_1"
      },
      "execution_count": null,
      "outputs": []
    },
    {
      "cell_type": "code",
      "source": [
        "word_breakI(\"leetcode\", [\"cats\", \"dog\", \"sand\", \"and\", \"cat\"])"
      ],
      "metadata": {
        "colab": {
          "base_uri": "https://localhost:8080/"
        },
        "id": "lyVUxd4hnCVd",
        "outputId": "d92d6446-a69d-4ab2-ae1b-924cb45fcca5"
      },
      "execution_count": null,
      "outputs": [
        {
          "output_type": "execute_result",
          "data": {
            "text/plain": [
              "False"
            ]
          },
          "metadata": {},
          "execution_count": 17
        }
      ]
    },
    {
      "cell_type": "markdown",
      "source": [
        "# **Word Break I- DP**"
      ],
      "metadata": {
        "id": "Y4EbkOXMbey_"
      }
    },
    {
      "cell_type": "code",
      "source": [
        "def word_breakI(s, wordDict):\n",
        "  result = [False] * (len(s) + 1)\n",
        "  result[0] = True\n",
        "  for index in range(1, len(s) + 1):\n",
        "    for j in range(index):\n",
        "      sub_string = s[j: index]\n",
        "      if result[j] == True and sub_string in wordDict:\n",
        "        result[index] = True\n",
        "  return result[len(s)]"
      ],
      "metadata": {
        "id": "gLby9Z0GbVhY"
      },
      "execution_count": null,
      "outputs": []
    },
    {
      "cell_type": "code",
      "source": [
        "word_breakI(\"cats\", [\"cats\", \"dog\", \"sand\", \"and\", \"cat\"])"
      ],
      "metadata": {
        "colab": {
          "base_uri": "https://localhost:8080/"
        },
        "id": "DZdhz0xueWVs",
        "outputId": "de7f85dc-b4b1-44b9-95ac-5f7820cdae48"
      },
      "execution_count": null,
      "outputs": [
        {
          "output_type": "execute_result",
          "data": {
            "text/plain": [
              "True"
            ]
          },
          "metadata": {},
          "execution_count": 51
        }
      ]
    },
    {
      "cell_type": "markdown",
      "source": [
        "# **Letter Combinations of a Phone Number**"
      ],
      "metadata": {
        "id": "nWfI4m60k9oQ"
      }
    },
    {
      "cell_type": "code",
      "source": [
        "KEYPAD = {'2': ['a', 'b', 'c'], '3': ['d', 'e', 'f'], '4': ['g', 'h', 'i'], '5': ['j', 'k', 'l'], '6': ['m', 'n', 'o'], '7': ['p', 'q', 'r', 's'], '8': ['t', 'u', 'v'], '9': ['w', 'x', 'y', 'z']}\n",
        "def lettercomb(digits, start_index = None, current_path = None, total_comb = None):\n",
        "  if not digits:\n",
        "    return []\n",
        "  if start_index is None:\n",
        "    start_index = 0\n",
        "  if current_path is None:\n",
        "    current_path = \"\"\n",
        "  if total_comb is None:\n",
        "    total_comb = []\n",
        "  if start_index == len(digits):\n",
        "    total_comb.append(current_path)\n",
        "    return\n",
        "  for i in range(len(KEYPAD[digits[start_index]])):\n",
        "    lettercomb(digits, start_index + 1, current_path + KEYPAD[digits[start_index]][i], total_comb)\n",
        "  return total_comb\n"
      ],
      "metadata": {
        "id": "KLw61T3JlDWu"
      },
      "execution_count": null,
      "outputs": []
    },
    {
      "cell_type": "code",
      "source": [
        "lettercomb('23')"
      ],
      "metadata": {
        "colab": {
          "base_uri": "https://localhost:8080/"
        },
        "id": "jMK9BU9qtvtG",
        "outputId": "dfe2ffbd-4609-4af9-921d-238df32939ea"
      },
      "execution_count": null,
      "outputs": [
        {
          "output_type": "execute_result",
          "data": {
            "text/plain": [
              "['ad', 'ae', 'af', 'bd', 'be', 'bf', 'cd', 'ce', 'cf']"
            ]
          },
          "metadata": {},
          "execution_count": 6
        }
      ]
    },
    {
      "cell_type": "code",
      "source": [
        "def maxSubsequence(nums: list[int], k: int) -> list[int]:\n",
        "  max_nums = sorted(nums, reverse = True)\n",
        "  if k > len(nums):\n",
        "    return []\n",
        "  result = max_nums[:k]\n",
        "  result_index = [nums.index(num) for num in result]\n",
        "  original_result = [nums[index] for index in sorted(result_index)]\n",
        "  return original_result"
      ],
      "metadata": {
        "id": "nsouUOKhI1cs"
      },
      "execution_count": null,
      "outputs": []
    },
    {
      "cell_type": "code",
      "source": [
        "maxSubsequence([3,4,3,3], 2)"
      ],
      "metadata": {
        "colab": {
          "base_uri": "https://localhost:8080/"
        },
        "id": "YueRJ5rRJAVD",
        "outputId": "95a34aa9-4ac9-4988-e6e2-4e08be358fdd"
      },
      "execution_count": null,
      "outputs": [
        {
          "output_type": "execute_result",
          "data": {
            "text/plain": [
              "[3, 4]"
            ]
          },
          "metadata": {},
          "execution_count": 40
        }
      ]
    },
    {
      "cell_type": "code",
      "source": [
        "def maxSubsequence(nums: list[int], k: int) -> list[int]:\n",
        "  indexed_nums = [(index, num) for index, num in enumerate(nums)]\n",
        "  max_nums = sorted(indexed_nums, key = lambda x: (-x[1], x[0]))[:k]\n",
        "  result = [num for index, num in sorted(max_nums)]\n",
        "  return result\n"
      ],
      "metadata": {
        "id": "PNfnsaspKfXs"
      },
      "execution_count": null,
      "outputs": []
    },
    {
      "cell_type": "code",
      "source": [
        "maxSubsequence([5, 2, 1, 2, 5], 3)"
      ],
      "metadata": {
        "colab": {
          "base_uri": "https://localhost:8080/"
        },
        "id": "dUvqloX2MOFN",
        "outputId": "b9e2648c-3049-4308-9120-423628853620"
      },
      "execution_count": null,
      "outputs": [
        {
          "output_type": "execute_result",
          "data": {
            "text/plain": [
              "[5, 2, 5]"
            ]
          },
          "metadata": {},
          "execution_count": 49
        }
      ]
    },
    {
      "cell_type": "markdown",
      "source": [
        "# **N-Queens**"
      ],
      "metadata": {
        "id": "ao5_h2C1hGyR"
      }
    },
    {
      "cell_type": "code",
      "source": [
        "def NQueens(n, row = None, current_path = None, total_combinations = None, columns = None, main_diagonal = None, anti_diagonal = None):\n",
        "  if row is None:\n",
        "    row = 0\n",
        "  if current_path is None:\n",
        "    current_path = []\n",
        "  if total_combinations is None:\n",
        "    total_combinations = []\n",
        "  if columns is None:\n",
        "    columns = set()\n",
        "  if main_diagonal is None:\n",
        "    main_diagonal = set()\n",
        "  if anti_diagonal is None:\n",
        "    anti_diagonal = set()\n",
        "  if len(current_path) == n:\n",
        "    total_combinations.append(current_path[:])\n",
        "    return\n",
        "  for col in range(n):\n",
        "    if col in columns or row + col in main_diagonal or row - col in anti_diagonal:\n",
        "      continue\n",
        "    else:\n",
        "      current_row =  \".\" * col + \"Q\" + \".\" * (n - col - 1)\n",
        "      columns.add(col)\n",
        "      main_diagonal.add(row + col)\n",
        "      anti_diagonal.add(row - col)\n",
        "      current_path.append(current_row)\n",
        "      NQueens(n, row + 1, current_path, total_combinations, columns, main_diagonal, anti_diagonal)\n",
        "      current_path.pop()\n",
        "      columns.remove(col)\n",
        "      main_diagonal.remove(row + col)\n",
        "      anti_diagonal.remove(row - col)\n",
        "\n",
        "  return total_combinations\n"
      ],
      "metadata": {
        "id": "yHD5KFCvg2fJ"
      },
      "execution_count": null,
      "outputs": []
    },
    {
      "cell_type": "code",
      "source": [
        "NQueens(5)"
      ],
      "metadata": {
        "colab": {
          "base_uri": "https://localhost:8080/"
        },
        "id": "qmddCzI_xqAB",
        "outputId": "05a576a9-0857-44ca-9119-4dac8a3c342e"
      },
      "execution_count": null,
      "outputs": [
        {
          "output_type": "execute_result",
          "data": {
            "text/plain": [
              "[['Q....', '..Q..', '....Q', '.Q...', '...Q.'],\n",
              " ['Q....', '...Q.', '.Q...', '....Q', '..Q..'],\n",
              " ['.Q...', '...Q.', 'Q....', '..Q..', '....Q'],\n",
              " ['.Q...', '....Q', '..Q..', 'Q....', '...Q.'],\n",
              " ['..Q..', 'Q....', '...Q.', '.Q...', '....Q'],\n",
              " ['..Q..', '....Q', '.Q...', '...Q.', 'Q....'],\n",
              " ['...Q.', 'Q....', '..Q..', '....Q', '.Q...'],\n",
              " ['...Q.', '.Q...', '....Q', '..Q..', 'Q....'],\n",
              " ['....Q', '.Q...', '...Q.', 'Q....', '..Q..'],\n",
              " ['....Q', '..Q..', 'Q....', '...Q.', '.Q...']]"
            ]
          },
          "metadata": {},
          "execution_count": 10
        }
      ]
    },
    {
      "cell_type": "markdown",
      "source": [
        "# **N-Queens II**"
      ],
      "metadata": {
        "id": "cBfQlTWHB_3v"
      }
    },
    {
      "cell_type": "code",
      "source": [
        "def NQueensII(n, row = None, current_path = None, total_combinations = None, columns = None, main_diagonal = None, anti_diagonal = None):\n",
        "  if row is None:\n",
        "    row = 0\n",
        "  if total_combinations is None:\n",
        "    total_combinations = []\n",
        "  if columns is None:\n",
        "    columns = set()\n",
        "  if main_diagonal is None:\n",
        "    main_diagonal = set()\n",
        "  if anti_diagonal is None:\n",
        "    anti_diagonal = set()\n",
        "  if row == n:\n",
        "        total_combinations.append(1)\n",
        "        return\n",
        "  for col in range(n):\n",
        "    if col in columns or row + col in main_diagonal or row - col in anti_diagonal:\n",
        "      continue\n",
        "    else:\n",
        "      columns.add(col)\n",
        "      main_diagonal.add(row + col)\n",
        "      anti_diagonal.add(row - col)\n",
        "      NQueensII(n, row + 1, current_path, total_combinations, columns, main_diagonal, anti_diagonal)\n",
        "      columns.remove(col)\n",
        "      main_diagonal.remove(row + col)\n",
        "      anti_diagonal.remove(row - col)\n",
        "\n",
        "  return len(total_combinations)"
      ],
      "metadata": {
        "id": "OYXrhc7pCGnu"
      },
      "execution_count": null,
      "outputs": []
    },
    {
      "cell_type": "code",
      "source": [
        "NQueensII(8)"
      ],
      "metadata": {
        "colab": {
          "base_uri": "https://localhost:8080/"
        },
        "id": "FWgDSKjVDvZP",
        "outputId": "1639590d-f344-4d95-f9fb-01c64e15cbf6"
      },
      "execution_count": null,
      "outputs": [
        {
          "output_type": "execute_result",
          "data": {
            "text/plain": [
              "92"
            ]
          },
          "metadata": {},
          "execution_count": 7
        }
      ]
    },
    {
      "cell_type": "markdown",
      "source": [
        "#**Sudoku Solver**"
      ],
      "metadata": {
        "id": "7dciuGq9rSWk"
      }
    },
    {
      "cell_type": "code",
      "source": [
        "class Solution():\n",
        "    def solveSudoku(self, board: list[str]) -> None:\n",
        "        \"\"\"\n",
        "        Do not return anything, modify board in-place instead.\n",
        "        \"\"\"\n",
        "        current_row = [set() for num in range(9)]\n",
        "        current_column = [set() for num in range(9)]\n",
        "        current_box = [set() for num in range(9)]\n",
        "\n",
        "        for index in range(81):\n",
        "          row_index = index // 9\n",
        "          column_index = index % 9\n",
        "          box_index = (row_index // 3) * 3 + column_index // 3\n",
        "\n",
        "          if board[row_index][column_index] != \".\":\n",
        "            current_row[row_index].add(board[row_index][column_index])\n",
        "            current_column[column_index].add(board[row_index][column_index])\n",
        "            current_box[box_index].add(board[row_index][column_index])\n",
        "\n",
        "        def backtrack(index):\n",
        "\n",
        "            if index == 81:\n",
        "                return True\n",
        "\n",
        "            row_index = index // 9\n",
        "            column_index = index % 9\n",
        "            row_index = index // 9\n",
        "            column_index = index % 9\n",
        "            box_index = (row_index // 3) * 3 + column_index // 3\n",
        "\n",
        "            if board[row_index][column_index] != \".\":\n",
        "                return backtrack(index + 1)\n",
        "\n",
        "            if board[row_index][column_index] == \".\":\n",
        "                for num in range(1, 10):\n",
        "                    if str(num) not in current_row[row_index] and str(num) not in current_column[column_index] and str(num) not in current_box[box_index]:\n",
        "                        board[row_index][column_index] = str(num)\n",
        "\n",
        "                        current_row[row_index].add(str(num))\n",
        "                        current_column[column_index].add(str(num))\n",
        "                        current_box[box_index].add(str(num))\n",
        "\n",
        "                        if backtrack(index + 1):\n",
        "                            return True\n",
        "                        board[row_index][column_index] = \".\"\n",
        "\n",
        "                        current_row[row_index].remove(str(num))\n",
        "                        current_column[column_index].remove(str(num))\n",
        "                        current_box[box_index].remove(str(num))\n",
        "\n",
        "        backtrack(0)\n",
        "        return board"
      ],
      "metadata": {
        "id": "w-7uT1YorcDl"
      },
      "execution_count": null,
      "outputs": []
    },
    {
      "cell_type": "code",
      "source": [
        "output = Solution()\n",
        "output.solveSudoku(board = [[\"5\",\"3\",\".\",\".\",\"7\",\".\",\".\",\".\",\".\"],[\"6\",\".\",\".\",\"1\",\"9\",\"5\",\".\",\".\",\".\"],[\".\",\"9\",\"8\",\".\",\".\",\".\",\".\",\"6\",\".\"],[\"8\",\".\",\".\",\".\",\"6\",\".\",\".\",\".\",\"3\"],[\"4\",\".\",\".\",\"8\",\".\",\"3\",\".\",\".\",\"1\"],[\"7\",\".\",\".\",\".\",\"2\",\".\",\".\",\".\",\"6\"],[\".\",\"6\",\".\",\".\",\".\",\".\",\"2\",\"8\",\".\"],[\".\",\".\",\".\",\"4\",\"1\",\"9\",\".\",\".\",\"5\"],[\".\",\".\",\".\",\".\",\"8\",\".\",\".\",\"7\",\"9\"]])"
      ],
      "metadata": {
        "colab": {
          "base_uri": "https://localhost:8080/"
        },
        "id": "tPBFURHzm36v",
        "outputId": "3d298fa7-acfa-49d1-c0f5-d0dce02a373c"
      },
      "execution_count": null,
      "outputs": [
        {
          "output_type": "execute_result",
          "data": {
            "text/plain": [
              "[['5', '3', '4', '6', '7', '8', '9', '1', '2'],\n",
              " ['6', '7', '2', '1', '9', '5', '3', '4', '8'],\n",
              " ['1', '9', '8', '3', '4', '2', '5', '6', '7'],\n",
              " ['8', '5', '9', '7', '6', '1', '4', '2', '3'],\n",
              " ['4', '2', '6', '8', '5', '3', '7', '9', '1'],\n",
              " ['7', '1', '3', '9', '2', '4', '8', '5', '6'],\n",
              " ['9', '6', '1', '5', '3', '7', '2', '8', '4'],\n",
              " ['2', '8', '7', '4', '1', '9', '6', '3', '5'],\n",
              " ['3', '4', '5', '2', '8', '6', '1', '7', '9']]"
            ]
          },
          "metadata": {},
          "execution_count": 6
        }
      ]
    },
    {
      "cell_type": "code",
      "source": [
        "class Solution():\n",
        "    def solveSudokuII(self, board: list[str]) -> None:\n",
        "        \"\"\"\n",
        "        Do not return anything, modify board in-place instead.\n",
        "        \"\"\"\n",
        "        current_row = [set() for num in range(9)]\n",
        "        current_column = [set() for num in range(9)]\n",
        "        current_box = [set() for num in range(9)]\n",
        "        empty_cell = []\n",
        "\n",
        "        for index in range(81):\n",
        "          row_index = index // 9\n",
        "          column_index = index % 9\n",
        "          box_index = (row_index // 3) * 3 + column_index // 3\n",
        "\n",
        "          if board[row_index][column_index] != \".\":\n",
        "            current_row[row_index].add(board[row_index][column_index])\n",
        "            current_column[column_index].add(board[row_index][column_index])\n",
        "            current_box[box_index].add(board[row_index][column_index])\n",
        "\n",
        "          if board[row_index][column_index] == \".\":\n",
        "            empty_cell.append((row_index, column_index))\n",
        "\n",
        "        def digits_calculator(row_index, column_index):\n",
        "          box_index = (row_index // 3) * 3 + column_index // 3\n",
        "          valid_digits = {\"1\", \"2\", \"3\", \"4\", \"5\", \"6\", \"7\", \"8\", \"9\"} - current_row[row_index] - current_column[column_index] - current_box[box_index]\n",
        "          return valid_digits\n",
        "\n",
        "        def backtrack(index):\n",
        "          valid_box = []\n",
        "\n",
        "          if index == len(empty_cell):\n",
        "            return True\n",
        "\n",
        "          for offset, (row_index, column_index) in enumerate(empty_cell[index:]):\n",
        "            current_pos = index + offset\n",
        "            current_valid_digits = digits_calculator(row_index, column_index)\n",
        "            if len(current_valid_digits) < 1:\n",
        "              return False\n",
        "            else:\n",
        "              valid_box.append((len(current_valid_digits), current_valid_digits, current_pos))\n",
        "          _, current_valid_digits, best_pos = min(valid_box)\n",
        "\n",
        "          empty_cell[index], empty_cell[best_pos] = empty_cell[best_pos], empty_cell[index]\n",
        "\n",
        "          row_index, column_index = empty_cell[index]\n",
        "          box_index = (row_index // 3) * 3 + column_index // 3\n",
        "\n",
        "          for num in current_valid_digits:\n",
        "              board[row_index][column_index] = num\n",
        "\n",
        "              current_row[row_index].add(num)\n",
        "              current_column[column_index].add(num)\n",
        "              current_box[box_index].add(num)\n",
        "\n",
        "              if backtrack(index + 1):\n",
        "                return True\n",
        "              board[row_index][column_index] = \".\"\n",
        "\n",
        "              current_row[row_index].remove(num)\n",
        "              current_column[column_index].remove(num)\n",
        "              current_box[box_index].remove(num)\n",
        "\n",
        "        backtrack(0)\n",
        "        return board"
      ],
      "metadata": {
        "id": "vcat8AXWMPF6"
      },
      "execution_count": null,
      "outputs": []
    },
    {
      "cell_type": "code",
      "source": [
        "output = Solution()\n",
        "output.solveSudokuII(board = [[\"5\",\"3\",\".\",\".\",\"7\",\".\",\".\",\".\",\".\"],[\"6\",\".\",\".\",\"1\",\"9\",\"5\",\".\",\".\",\".\"],[\".\",\"9\",\"8\",\".\",\".\",\".\",\".\",\"6\",\".\"],[\"8\",\".\",\".\",\".\",\"6\",\".\",\".\",\".\",\"3\"],[\"4\",\".\",\".\",\"8\",\".\",\"3\",\".\",\".\",\"1\"],[\"7\",\".\",\".\",\".\",\"2\",\".\",\".\",\".\",\"6\"],[\".\",\"6\",\".\",\".\",\".\",\".\",\"2\",\"8\",\".\"],[\".\",\".\",\".\",\"4\",\"1\",\"9\",\".\",\".\",\"5\"],[\".\",\".\",\".\",\".\",\"8\",\".\",\".\",\"7\",\"9\"]])"
      ],
      "metadata": {
        "colab": {
          "base_uri": "https://localhost:8080/"
        },
        "id": "FEMLNdG8NcSc",
        "outputId": "70bac68e-d2fa-435f-c296-f9ca46263a9d"
      },
      "execution_count": null,
      "outputs": [
        {
          "output_type": "execute_result",
          "data": {
            "text/plain": [
              "[['5', '3', '.', '.', '7', '.', '.', '.', '.'],\n",
              " ['6', '.', '.', '1', '9', '5', '.', '.', '.'],\n",
              " ['.', '9', '8', '.', '.', '.', '.', '6', '.'],\n",
              " ['8', '.', '.', '.', '6', '.', '.', '.', '3'],\n",
              " ['4', '.', '.', '8', '.', '3', '.', '.', '1'],\n",
              " ['7', '.', '.', '.', '2', '.', '.', '.', '6'],\n",
              " ['.', '6', '.', '.', '.', '.', '2', '8', '.'],\n",
              " ['.', '.', '.', '4', '1', '9', '.', '.', '5'],\n",
              " ['.', '.', '.', '.', '8', '.', '.', '7', '9']]"
            ]
          },
          "metadata": {},
          "execution_count": 2
        }
      ]
    },
    {
      "cell_type": "markdown",
      "source": [
        "# **Word Search**"
      ],
      "metadata": {
        "id": "aWSbFmcRCBEp"
      }
    },
    {
      "cell_type": "code",
      "source": [
        "def word_search(board, word, word_index = None, visited_set = None):\n",
        "  if word_index is None:\n",
        "    word_index = 0\n",
        "  if visited_set is None:\n",
        "    visited_set = set()\n",
        "\n",
        "  def dfs(board, word, i, j, word_index, visited_set):\n",
        "    if word_index == len(word):\n",
        "      return True\n",
        "    if i < 0 or i >= row_size or j < 0 or j >= column_size:\n",
        "      return False\n",
        "    if (i, j) in visited_set:\n",
        "      return False\n",
        "    if board[i][j] != word[word_index]:\n",
        "      return False\n",
        "    visited_set.add((i, j))\n",
        "\n",
        "    if dfs(board, word, i + 1, j, word_index + 1, visited_set):\n",
        "      return True\n",
        "    if dfs(board, word, i - 1, j, word_index + 1, visited_set):\n",
        "      return True\n",
        "    if dfs(board, word, i, j + 1, word_index + 1, visited_set):\n",
        "      return True\n",
        "    if dfs(board, word, i, j - 1, word_index + 1, visited_set):\n",
        "      return True\n",
        "    visited_set.remove((i, j))\n",
        "    return False\n",
        "\n",
        "  row_size = len(board)\n",
        "  column_size = len(board[0])\n",
        "  for i in range(0, row_size):\n",
        "    for j in range(0, column_size):\n",
        "      if board[i][j] == word[word_index]:\n",
        "        if dfs(board, word, i, j, word_index, visited_set):\n",
        "          return True\n",
        "\n",
        "  return False\n"
      ],
      "metadata": {
        "id": "xOsg6ybECAmi"
      },
      "execution_count": null,
      "outputs": []
    },
    {
      "cell_type": "code",
      "source": [
        "word_search([[\"A\",\"B\",\"C\",\"E\"],[\"S\",\"F\",\"C\",\"S\"],[\"A\",\"D\",\"E\",\"E\"]], \"ABCCED\")"
      ],
      "metadata": {
        "colab": {
          "base_uri": "https://localhost:8080/"
        },
        "id": "Q4f2n82UEvS4",
        "outputId": "2c1b6e6e-802e-4132-b03b-25d39b7b13e5"
      },
      "execution_count": null,
      "outputs": [
        {
          "output_type": "execute_result",
          "data": {
            "text/plain": [
              "True"
            ]
          },
          "metadata": {},
          "execution_count": 11
        }
      ]
    },
    {
      "cell_type": "markdown",
      "source": [
        "# **Word Search II**"
      ],
      "metadata": {
        "id": "OVhDWbBB1VPS"
      }
    },
    {
      "cell_type": "code",
      "source": [
        "def word_search_II(board, words, found_words = None):\n",
        "  if found_words is None:\n",
        "    found_words = set()\n",
        "\n",
        "  class TrieNode:\n",
        "    def __init__(self):\n",
        "      self.children = {}\n",
        "      self.word = None\n",
        "\n",
        "  root = TrieNode()\n",
        "\n",
        "  for word in words:\n",
        "    node = root\n",
        "    for ch in word:\n",
        "      if ch not in node.children:\n",
        "        node.children[ch] = TrieNode()\n",
        "      node = node.children[ch]\n",
        "    node.word = word\n",
        "\n",
        "  def dfs(i, j, node, visited_box = None):\n",
        "    if visited_box is None:\n",
        "      visited_box = set()\n",
        "    if node.word != None:\n",
        "      found_words.add(node.word)\n",
        "      node.word = None\n",
        "\n",
        "    visited_box.add((i, j))\n",
        "\n",
        "    for (k, l) in ((i + 1, j), (i - 1, j), (i, j + 1), (i, j - 1)):\n",
        "      if (k, l) not in  visited_box and k >= 0 and l >= 0 and k < len(board) and l < len(board[0]):\n",
        "        if board[k][l] in node.children:\n",
        "          dfs(k, l, node.children[board[k][l]], visited_box)\n",
        "\n",
        "    visited_box.remove((i, j))\n",
        "    return\n",
        "\n",
        "  for i in range(len(board)):\n",
        "    for j in range(len(board[0])):\n",
        "      if board[i][j] in root.children:\n",
        "        node = root.children[board[i][j]]\n",
        "        dfs(i, j, node, visited_box = None)\n",
        "\n",
        "  return list(found_words)\n"
      ],
      "metadata": {
        "id": "wCSHlrNO1awp"
      },
      "execution_count": null,
      "outputs": []
    },
    {
      "cell_type": "code",
      "source": [
        "word_search_II([\n",
        "  ['o','a','a','n'],\n",
        "  ['e','t','a','e'],\n",
        "  ['i','h','k','r'],\n",
        "  ['i','f','l','v']\n",
        "], [\"oath\",\"pea\",\"eat\",\"rain\"])"
      ],
      "metadata": {
        "id": "PZgVxJsh_AeD",
        "colab": {
          "base_uri": "https://localhost:8080/"
        },
        "outputId": "8f4739d5-8d09-45d3-a52b-e6f01d6c3e60"
      },
      "execution_count": null,
      "outputs": [
        {
          "output_type": "execute_result",
          "data": {
            "text/plain": [
              "['eat', 'oath']"
            ]
          },
          "metadata": {},
          "execution_count": 19
        }
      ]
    },
    {
      "cell_type": "code",
      "source": [
        "def wordSearchII(board, words, found_words = None):\n",
        "  if found_words is None:\n",
        "    found_words = set()\n",
        "\n",
        "  class TrieNode:\n",
        "    def __init__(self):\n",
        "      self.children = {}\n",
        "      self.word = None\n",
        "\n",
        "  root = TrieNode()\n",
        "\n",
        "  for word in words:\n",
        "    node = root\n",
        "    for ch in word:\n",
        "      if ch not in node.children:\n",
        "        node.children[ch] = TrieNode()\n",
        "      node = node.children[ch]\n",
        "    node.word = word\n",
        "\n",
        "  def dfs(i, j, node):\n",
        "\n",
        "    if node.word != None:\n",
        "      found_words.add(node.word)\n",
        "      node.word = None\n",
        "\n",
        "    original_char = board[i][j]\n",
        "    board[i][j] = '#'\n",
        "\n",
        "    for (k, l) in ((i + 1, j), (i - 1, j), (i, j + 1), (i, j - 1)):\n",
        "      if k >= 0 and l >= 0 and k < len(board) and l < len(board[k]) and board[k][l] != '#':\n",
        "        if board[k][l] in node.children:\n",
        "          child_node = node.children[board[k][l]]\n",
        "          next_char = board[k][l]\n",
        "          dfs(k, l, node.children[board[k][l]])\n",
        "          if child_node.children == {} and child_node.word == None:\n",
        "            node.children.pop(next_char)\n",
        "\n",
        "    board[i][j] = original_char\n",
        "    return\n",
        "\n",
        "  for i in range(len(board)):\n",
        "    for j in range(len(board[i])):\n",
        "      if board[i][j] in root.children:\n",
        "        node = root.children[board[i][j]]\n",
        "        dfs(i, j, node)\n",
        "\n",
        "  return list(found_words)\n"
      ],
      "metadata": {
        "id": "KpwqDnNJUrWV"
      },
      "execution_count": null,
      "outputs": []
    },
    {
      "cell_type": "code",
      "source": [
        "wordSearchII([\n",
        "  ['o','a','a','n'],\n",
        "  ['e','t','a','e'],\n",
        "  ['i','h','k','r'],\n",
        "  ['i','f','l','v']\n",
        "], [\"oath\",\"pea\",\"eat\",\"rain\"])"
      ],
      "metadata": {
        "colab": {
          "base_uri": "https://localhost:8080/"
        },
        "id": "xHlGto2Y8WUy",
        "outputId": "87809395-0055-4164-b1d7-dc2f050e7162"
      },
      "execution_count": null,
      "outputs": [
        {
          "output_type": "execute_result",
          "data": {
            "text/plain": [
              "['oath', 'eat']"
            ]
          },
          "metadata": {},
          "execution_count": 7
        }
      ]
    },
    {
      "cell_type": "markdown",
      "source": [
        "# **Number of Islands**"
      ],
      "metadata": {
        "id": "UHz9t_N3t0lh"
      }
    },
    {
      "cell_type": "code",
      "source": [
        "def island(grid):\n",
        "  island_count = 0\n",
        "\n",
        "  def dfs(i, j):\n",
        "\n",
        "    if grid[i][j] == \"#\" or grid[i][j] == \"0\":\n",
        "      return\n",
        "\n",
        "    grid[i][j] = \"#\"\n",
        "\n",
        "    for k, l in ((i + 1, j), (i - 1, j), (i, j + 1), (i, j - 1)):\n",
        "      if k >= 0 and l >= 0 and k < len(grid) and l < len(grid[k]) and grid[k][l] != \"#\":\n",
        "        if grid[k][l] == \"1\":\n",
        "          dfs(k, l)\n",
        "\n",
        "  for i in range(len(grid)):\n",
        "    for j in range(len(grid[i])):\n",
        "      if grid[i][j] == \"1\":\n",
        "        dfs(i, j)\n",
        "        island_count += 1\n",
        "\n",
        "  return island_count"
      ],
      "metadata": {
        "id": "TGAUSn6k1N0K"
      },
      "execution_count": null,
      "outputs": []
    },
    {
      "cell_type": "code",
      "source": [
        "island([\n",
        "  [\"1\",\"1\",\"0\"],\n",
        "  [\"1\",\"0\",\"0\"],\n",
        "  [\"0\",\"0\",\"1\"]\n",
        "])"
      ],
      "metadata": {
        "colab": {
          "base_uri": "https://localhost:8080/"
        },
        "id": "Ql8Obo2q82OE",
        "outputId": "11d3c182-9979-4bdb-c03d-0d7873e85bfb"
      },
      "execution_count": null,
      "outputs": [
        {
          "output_type": "execute_result",
          "data": {
            "text/plain": [
              "2"
            ]
          },
          "metadata": {},
          "execution_count": 17
        }
      ]
    },
    {
      "cell_type": "code",
      "source": [
        "def island(grid):\n",
        "  island_count = 0\n",
        "\n",
        "  def dfs(i, j):\n",
        "\n",
        "    if i < 0 or j < 0 or i >= len(grid) or j >= len(grid[i]) or grid[i][j] == \"#\" or grid[i][j] == \"0\":\n",
        "      return\n",
        "\n",
        "    grid[i][j] = \"#\"\n",
        "\n",
        "    dfs(i + 1, j)\n",
        "    dfs(i - 1, j)\n",
        "    dfs(i, j + 1)\n",
        "    dfs(i, j - 1)\n",
        "\n",
        "  for i in range(len(grid)):\n",
        "    for j in range(len(grid[i])):\n",
        "      if grid[i][j] == \"1\":\n",
        "        dfs(i, j)\n",
        "        island_count += 1\n",
        "\n",
        "  return island_count"
      ],
      "metadata": {
        "id": "1wkmWS0gDfyi"
      },
      "execution_count": null,
      "outputs": []
    },
    {
      "cell_type": "code",
      "source": [
        "island([\n",
        "  [\"1\",\"1\",\"0\"],\n",
        "  [\"1\",\"0\",\"0\"],\n",
        "  [\"0\",\"0\",\"1\"]\n",
        "])"
      ],
      "metadata": {
        "colab": {
          "base_uri": "https://localhost:8080/"
        },
        "id": "3qXtabyJDvZP",
        "outputId": "c47d06e2-1c31-4a6e-8586-5fb89f7764ef"
      },
      "execution_count": null,
      "outputs": [
        {
          "output_type": "execute_result",
          "data": {
            "text/plain": [
              "2"
            ]
          },
          "metadata": {},
          "execution_count": 28
        }
      ]
    },
    {
      "cell_type": "markdown",
      "source": [
        "# **Max Area of Island**"
      ],
      "metadata": {
        "id": "yhymdbnVt8m_"
      }
    },
    {
      "cell_type": "code",
      "source": [
        "def maxAreaOfIsland(grid):\n",
        "  total_island_areas = []\n",
        "  island_area = []\n",
        "\n",
        "  def dfs(i, j, island_area):\n",
        "\n",
        "    if i < 0 or j < 0 or i >= len(grid) or j >= len(grid[i]) or grid[i][j] == \"#\" or grid[i][j] == 0:\n",
        "      return island_area\n",
        "\n",
        "    grid[i][j] = \"#\"\n",
        "    island_area.append(1)\n",
        "\n",
        "    dfs(i + 1, j, island_area)\n",
        "    dfs(i - 1, j, island_area)\n",
        "    dfs(i, j + 1, island_area)\n",
        "    dfs(i, j - 1, island_area)\n",
        "\n",
        "  for i in range(len(grid)):\n",
        "    for j in range(len(grid[i])):\n",
        "      if grid[i][j] == 1:\n",
        "        island_area = []\n",
        "        dfs(i, j, island_area)\n",
        "        total_island_areas.append(sum(island_area))\n",
        "\n",
        "  if total_island_areas:\n",
        "    return max(total_island_areas)\n",
        "  return 0"
      ],
      "metadata": {
        "id": "99frrgKguBFy"
      },
      "execution_count": null,
      "outputs": []
    },
    {
      "cell_type": "code",
      "source": [
        "maxAreaOfIsland([[0,0,1,0,0,0,0,1,0,0,0,0,0],[0,0,0,0,0,0,0,1,1,1,0,0,0],[0,1,1,0,1,0,0,0,0,0,0,0,0],[0,1,0,0,1,1,0,0,1,0,1,0,0],[0,1,0,0,1,1,0,0,1,1,1,0,0],[0,0,0,0,0,0,0,0,0,0,1,0,0],[0,0,0,0,0,0,0,1,1,1,0,0,0],[0,0,0,0,0,0,0,1,1,0,0,0,0]])"
      ],
      "metadata": {
        "colab": {
          "base_uri": "https://localhost:8080/"
        },
        "id": "YLzXAgB3vVFC",
        "outputId": "76852ed1-69e0-4e7d-d89a-4d221eab5cd9"
      },
      "execution_count": null,
      "outputs": [
        {
          "output_type": "execute_result",
          "data": {
            "text/plain": [
              "6"
            ]
          },
          "metadata": {},
          "execution_count": 33
        }
      ]
    },
    {
      "cell_type": "code",
      "source": [
        "def maxAreaOfIsland(grid):\n",
        "  total_island_areas = []\n",
        "\n",
        "  def dfs(i, j):\n",
        "\n",
        "    if i < 0 or j < 0 or i >= len(grid) or j >= len(grid[i]) or grid[i][j] == 0:\n",
        "      return island_area\n",
        "\n",
        "    grid[i][j] = 0\n",
        "    island_area[0] += 1\n",
        "\n",
        "    dfs(i + 1, j)\n",
        "    dfs(i - 1, j)\n",
        "    dfs(i, j + 1)\n",
        "    dfs(i, j - 1)\n",
        "\n",
        "  for i in range(len(grid)):\n",
        "    for j in range(len(grid[i])):\n",
        "      island_area = [0]\n",
        "      if grid[i][j] == 1:\n",
        "        dfs(i, j)\n",
        "        total_island_areas.append(island_area[0])\n",
        "\n",
        "  if total_island_areas:\n",
        "    return max(total_island_areas)\n",
        "  return 0"
      ],
      "metadata": {
        "id": "H71nJCQS09mF"
      },
      "execution_count": null,
      "outputs": []
    },
    {
      "cell_type": "code",
      "source": [
        "maxAreaOfIsland([[0,0,1,0,0,0,0,1,0,0,0,0,0],[0,0,0,0,0,0,0,1,1,1,0,0,0],[0,1,1,0,1,0,0,0,0,0,0,0,0],[0,1,0,0,1,1,0,0,1,0,1,0,0],[0,1,0,0,1,1,0,0,1,1,1,0,0],[0,0,0,0,0,0,0,0,0,0,1,0,0],[0,0,0,0,0,0,0,1,1,1,0,0,0],[0,0,0,0,0,0,0,1,1,0,0,0,0]])"
      ],
      "metadata": {
        "colab": {
          "base_uri": "https://localhost:8080/"
        },
        "id": "Gv93hPX31ifX",
        "outputId": "90030d2a-fd57-4553-bc6d-f56b95bf8b6c"
      },
      "execution_count": null,
      "outputs": [
        {
          "output_type": "execute_result",
          "data": {
            "text/plain": [
              "6"
            ]
          },
          "metadata": {},
          "execution_count": 22
        }
      ]
    },
    {
      "cell_type": "markdown",
      "source": [
        "# **Happy Number**"
      ],
      "metadata": {
        "id": "n3j9ZgmKQX_5"
      }
    },
    {
      "cell_type": "code",
      "source": [
        "def isHappy(n, sum_set = None):\n",
        "\n",
        "  if n < 4 and n != 1:\n",
        "    return False\n",
        "\n",
        "  if sum_set == None:\n",
        "    sum_set = set()\n",
        "\n",
        "  sum = 0\n",
        "  sum_set.add(n)\n",
        "\n",
        "  while n > 0:\n",
        "    quotient = n // 10\n",
        "    remainder = n % 10\n",
        "    n = quotient\n",
        "    sum += remainder ** 2\n",
        "\n",
        "  if sum == 1:\n",
        "    return True\n",
        "\n",
        "  if sum in sum_set:\n",
        "    return False\n",
        "\n",
        "  if isHappy(sum, sum_set):\n",
        "    return True\n",
        "  return False\n"
      ],
      "metadata": {
        "id": "MCt92WFS6LsJ"
      },
      "execution_count": null,
      "outputs": []
    },
    {
      "cell_type": "code",
      "source": [
        "isHappy(2258)"
      ],
      "metadata": {
        "colab": {
          "base_uri": "https://localhost:8080/"
        },
        "id": "1GpjdpMy8M9B",
        "outputId": "61b50f3b-9fb5-4ccb-b802-3803187318bf"
      },
      "execution_count": null,
      "outputs": [
        {
          "output_type": "execute_result",
          "data": {
            "text/plain": [
              "True"
            ]
          },
          "metadata": {},
          "execution_count": 39
        }
      ]
    },
    {
      "cell_type": "markdown",
      "source": [
        "# **Rat in Maze**"
      ],
      "metadata": {
        "id": "qXJPZlJzQiwE"
      }
    },
    {
      "cell_type": "code",
      "source": [
        "def rat_in_maze(maze):\n",
        "  result = []\n",
        "\n",
        "  def dfs(i, j, current_path = None):\n",
        "    if current_path == None:\n",
        "      current_path = []\n",
        "\n",
        "    if i == len(maze) - 1 and j == len(maze[i]) - 1:\n",
        "      result.append(\"\".join(current_path))\n",
        "      return\n",
        "\n",
        "    original_char = maze[i][j]\n",
        "    maze[i][j] = \"#\"\n",
        "\n",
        "    if i + 1 <  len(maze) and maze[i + 1][j] == 1:\n",
        "      current_path.append(\"D\")\n",
        "      dfs(i + 1, j, current_path)\n",
        "      current_path.pop()\n",
        "    if i - 1 >= 0 and maze[i - 1][j] == 1:\n",
        "      current_path.append(\"U\")\n",
        "      dfs(i - 1, j, current_path)\n",
        "      current_path.pop()\n",
        "    if j + 1 <  len(maze[i]) and maze[i][j + 1] == 1:\n",
        "      current_path.append(\"R\")\n",
        "      dfs(i, j + 1, current_path)\n",
        "      current_path.pop()\n",
        "    if j - 1 >= 0 and maze[i][j - 1] == 1:\n",
        "      current_path.append(\"L\")\n",
        "      dfs(i, j - 1, current_path)\n",
        "      current_path.pop()\n",
        "\n",
        "    maze[i][j] = original_char\n",
        "\n",
        "  if maze[0][0] == 1:\n",
        "    dfs(0,0)\n",
        "\n",
        "  return result"
      ],
      "metadata": {
        "id": "SEBZun3wQmqb"
      },
      "execution_count": null,
      "outputs": []
    },
    {
      "cell_type": "code",
      "source": [
        "rat_in_maze([\n",
        " [1, 1, 0, 1, 0, 1, 1, 0, 0, 1],\n",
        " [1, 1, 1, 1, 1, 1, 1, 1, 1, 1]\n",
        "])"
      ],
      "metadata": {
        "id": "7O2p5nUMaZ8L",
        "colab": {
          "base_uri": "https://localhost:8080/"
        },
        "outputId": "41dd6fad-7469-4aab-cc08-fe6a400c1487"
      },
      "execution_count": null,
      "outputs": [
        {
          "output_type": "execute_result",
          "data": {
            "text/plain": [
              "['DRRRRRURDRRR', 'DRRRRRRRRR', 'RDRRRRURDRRR', 'RDRRRRRRRR']"
            ]
          },
          "metadata": {},
          "execution_count": 6
        }
      ]
    },
    {
      "cell_type": "markdown",
      "source": [
        "# **Unique Paths III**"
      ],
      "metadata": {
        "id": "Q1HK33aP2ClL"
      }
    },
    {
      "cell_type": "code",
      "source": [
        "def UniquePathsIII(grid: list[list[int]]) -> int:\n",
        "  remaining_squares = 1\n",
        "  result = [0]\n",
        "\n",
        "  for i in range(len(grid)):\n",
        "    for j in range(len(grid[i])):\n",
        "      if grid[i][j] == 0:\n",
        "        remaining_squares += 1\n",
        "\n",
        "  def dfs(i, j, remaining_squares):\n",
        "\n",
        "    if grid[i][j] == 2 and remaining_squares == 0:\n",
        "      result[0] += 1\n",
        "      return\n",
        "\n",
        "    if grid[i][j] == -1 or grid[i][j] == \"#\":\n",
        "      return\n",
        "\n",
        "    original_num = grid[i][j]\n",
        "    grid[i][j] = \"#\"\n",
        "\n",
        "    if i + 1 <  len(grid) and grid[i + 1][j] != \"#\" and grid[i + 1][j] != -1:\n",
        "      dfs(i + 1, j, remaining_squares - 1)\n",
        "\n",
        "    if i - 1 >= 0 and grid[i - 1][j] != \"#\" and grid[i - 1][j] != -1:\n",
        "      dfs(i - 1, j, remaining_squares - 1)\n",
        "\n",
        "    if j + 1 <  len(grid[i]) and grid[i][j + 1] != \"#\" and grid[i][j + 1] != -1:\n",
        "      dfs(i, j + 1, remaining_squares - 1)\n",
        "\n",
        "    if j - 1 >= 0 and grid[i][j - 1] != \"#\" and grid[i][j - 1] != -1:\n",
        "      dfs(i, j - 1, remaining_squares - 1)\n",
        "\n",
        "    grid[i][j] = original_num\n",
        "\n",
        "  for i in range(len(grid)):\n",
        "    for j in range(len(grid[i])):\n",
        "      if grid[i][j] == 1:\n",
        "        start_i, start_j = i, j\n",
        "\n",
        "  dfs(start_i, start_j, remaining_squares)\n",
        "\n",
        "  return result[0]"
      ],
      "metadata": {
        "id": "DL_f9MmT2G9g"
      },
      "execution_count": null,
      "outputs": []
    },
    {
      "cell_type": "code",
      "source": [
        "UniquePathsIII([[0,0,0,0],[0,1,2,0],[0,0,0,0]])"
      ],
      "metadata": {
        "colab": {
          "base_uri": "https://localhost:8080/"
        },
        "id": "DhDbL0m46ErO",
        "outputId": "6b5951b8-8f71-474e-b77f-828f753b4cd5"
      },
      "execution_count": null,
      "outputs": [
        {
          "output_type": "execute_result",
          "data": {
            "text/plain": [
              "2"
            ]
          },
          "metadata": {},
          "execution_count": 40
        }
      ]
    }
  ]
}