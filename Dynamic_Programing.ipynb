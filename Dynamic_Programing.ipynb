{
  "nbformat": 4,
  "nbformat_minor": 0,
  "metadata": {
    "colab": {
      "provenance": [],
      "authorship_tag": "ABX9TyMvEz2tqh6oEf3eDidgeNkL",
      "include_colab_link": true
    },
    "kernelspec": {
      "name": "python3",
      "display_name": "Python 3"
    },
    "language_info": {
      "name": "python"
    }
  },
  "cells": [
    {
      "cell_type": "markdown",
      "metadata": {
        "id": "view-in-github",
        "colab_type": "text"
      },
      "source": [
        "<a href=\"https://colab.research.google.com/github/ruthuraraj/Learning-Programing-Algorithms-and-Data-Structures-using-Python/blob/main/Dynamic_Programing.ipynb\" target=\"_parent\"><img src=\"https://colab.research.google.com/assets/colab-badge.svg\" alt=\"Open In Colab\"/></a>"
      ]
    },
    {
      "cell_type": "markdown",
      "source": [
        "# **746. Min Cost Climbing Stairs**"
      ],
      "metadata": {
        "id": "Rbryz6pr3S8-"
      }
    },
    {
      "cell_type": "code",
      "source": [
        "def mincost(cost):\n",
        "  total_cost = 0\n",
        "  if cost[1] <= cost[0] or len(cost) == 3:\n",
        "    i = 1\n",
        "  else:\n",
        "    i = 0\n",
        "  while i <= len(cost):\n",
        "    if i + 1 == len(cost) or i + 2 == len(cost): #greedy approach\n",
        "      total_cost += cost[i]\n",
        "      return total_cost\n",
        "    if cost[i + 2] <= cost[i + 1] or i + 4 == len(cost): #greedy approach\n",
        "      total_cost += cost[i]\n",
        "      i += 2\n",
        "    else:\n",
        "      total_cost += cost[i]\n",
        "      i += 1"
      ],
      "metadata": {
        "id": "LxRTywYtmoMg"
      },
      "execution_count": null,
      "outputs": []
    },
    {
      "cell_type": "code",
      "source": [
        "mincost([1,100,1,1,1,100,1,1,100,1])"
      ],
      "metadata": {
        "colab": {
          "base_uri": "https://localhost:8080/"
        },
        "id": "feHY9v8HoB3I",
        "outputId": "00c4443a-c93e-4294-e673-bf0e8dc3a544"
      },
      "execution_count": null,
      "outputs": [
        {
          "output_type": "execute_result",
          "data": {
            "text/plain": [
              "104"
            ]
          },
          "metadata": {},
          "execution_count": 18
        }
      ]
    },
    {
      "cell_type": "code",
      "execution_count": null,
      "metadata": {
        "id": "SlTbT37F3HfT"
      },
      "outputs": [],
      "source": [
        "def mincost(cost):\n",
        "        i = len(cost)\n",
        "        total_cost = {0: cost[0], 1: cost[1]} #Dictionary for Memoization\n",
        "        def min_cost(n):\n",
        "            if n not in total_cost:\n",
        "                total_cost[n] = cost[n] + min(min_cost(n - 1), min_cost(n - 2))\n",
        "            return total_cost[n]\n",
        "        return min(min_cost(i - 1), min_cost(i - 2))"
      ]
    },
    {
      "cell_type": "code",
      "source": [
        "mincost([1,100,1,1,1,100,1,1,100,1])"
      ],
      "metadata": {
        "colab": {
          "base_uri": "https://localhost:8080/"
        },
        "id": "nH-vRnHroGbt",
        "outputId": "fc41d9c3-0014-4dcd-dbd9-d6a3b5f0505b"
      },
      "execution_count": null,
      "outputs": [
        {
          "output_type": "execute_result",
          "data": {
            "text/plain": [
              "6"
            ]
          },
          "metadata": {},
          "execution_count": 20
        }
      ]
    },
    {
      "cell_type": "code",
      "source": [
        "def mincost(cost):\n",
        "  total_cost = [0] * len(cost)\n",
        "\n",
        "  for i in range(len(cost)):\n",
        "    if i == 0 or i == 1:\n",
        "      total_cost[i] = cost[i]\n",
        "    else:\n",
        "      total_cost[i] = cost[i] + min(total_cost[i - 1], total_cost[i - 2]) #DP table building\n",
        "  return min(total_cost[-1], total_cost[-2]) #minimum of last two values will be minimum cost"
      ],
      "metadata": {
        "id": "sR-4A7FdU4Oq"
      },
      "execution_count": null,
      "outputs": []
    },
    {
      "cell_type": "code",
      "source": [
        "mincost([1,100,1,1,1,100,1,1,100,1])"
      ],
      "metadata": {
        "colab": {
          "base_uri": "https://localhost:8080/"
        },
        "id": "alHPbiKCa6hW",
        "outputId": "29066cba-0d08-4021-fe52-98b1798c5d5c"
      },
      "execution_count": null,
      "outputs": [
        {
          "output_type": "execute_result",
          "data": {
            "text/plain": [
              "6"
            ]
          },
          "metadata": {},
          "execution_count": 16
        }
      ]
    },
    {
      "cell_type": "markdown",
      "source": [
        "# **198. House Robber**"
      ],
      "metadata": {
        "id": "1mpo6yGrW6HP"
      }
    },
    {
      "cell_type": "code",
      "source": [
        "def rob(nums):\n",
        "  total_money = [0] * len(nums)\n",
        "\n",
        "  if len(nums) < 2:\n",
        "    return max(nums)\n",
        "\n",
        "  for i in range(len(nums)):\n",
        "    if i == 0 or i == 1:\n",
        "      total_money[i] = nums[i]\n",
        "    else:\n",
        "      total_money[i] = nums[i] + max(total_money[:i - 1])\n",
        "  return max(total_money[-1], total_money[-2])"
      ],
      "metadata": {
        "id": "sjHbdDhqDDla"
      },
      "execution_count": null,
      "outputs": []
    },
    {
      "cell_type": "code",
      "source": [
        "rob([1, 1, 3, 6, 7, 10, 7, 1, 8, 5, 9, 1, 4, 4, 3])"
      ],
      "metadata": {
        "colab": {
          "base_uri": "https://localhost:8080/"
        },
        "id": "r_y5705OyVYy",
        "outputId": "b1734714-1a34-4a2e-9f0f-2941f2a22cdd"
      },
      "execution_count": null,
      "outputs": [
        {
          "output_type": "execute_result",
          "data": {
            "text/plain": [
              "42"
            ]
          },
          "metadata": {},
          "execution_count": 26
        }
      ]
    },
    {
      "cell_type": "code",
      "source": [
        "def rob(nums):\n",
        "  total_money = [0] * len(nums)\n",
        "\n",
        "  if len(nums) < 2:\n",
        "    return max(nums)\n",
        "\n",
        "  for i in range(len(nums)):\n",
        "    if i == 0:\n",
        "      total_money[i] = nums[i]\n",
        "      #print(total_money)\n",
        "    elif i == 1:\n",
        "      total_money[i] = max(total_money[i - 1], nums[i])\n",
        "      #print(total_money)\n",
        "    else:\n",
        "      total_money[i] = max(total_money[i - 1], nums[i] + total_money[i - 2])\n",
        "      #print(total_money)\n",
        "  return total_money[-1]"
      ],
      "metadata": {
        "id": "tq0U2JiaW-cc"
      },
      "execution_count": null,
      "outputs": []
    },
    {
      "cell_type": "code",
      "source": [
        "rob([1, 1, 3, 6, 7, 10, 7, 1, 8, 5, 9, 1, 4, 4, 3])"
      ],
      "metadata": {
        "colab": {
          "base_uri": "https://localhost:8080/"
        },
        "id": "1MIBfkCHYgFa",
        "outputId": "9f0557c2-d518-4620-b462-ed511dc62a98"
      },
      "execution_count": null,
      "outputs": [
        {
          "output_type": "execute_result",
          "data": {
            "text/plain": [
              "42"
            ]
          },
          "metadata": {},
          "execution_count": 54
        }
      ]
    },
    {
      "cell_type": "code",
      "source": [
        "def rob(nums):\n",
        "\n",
        "  previous_loot, max_loot, temp = 0, 0, 0\n",
        "\n",
        "  if len(nums) < 2:\n",
        "    return max(nums)\n",
        "\n",
        "  for i in range(len(nums)):\n",
        "    if i == 0:\n",
        "      previous_loot = nums[i]\n",
        "    elif i == 1:\n",
        "      max_loot = max(previous_loot, nums[i])\n",
        "    else:\n",
        "      temp = max_loot\n",
        "      print(temp)\n",
        "      max_loot = max(max_loot, nums[i] + previous_loot)\n",
        "      previous_loot = temp\n",
        "  return max_loot"
      ],
      "metadata": {
        "id": "9snPFd5pggsz"
      },
      "execution_count": null,
      "outputs": []
    },
    {
      "cell_type": "code",
      "source": [
        "rob([2,3,4])"
      ],
      "metadata": {
        "colab": {
          "base_uri": "https://localhost:8080/"
        },
        "id": "wGVU4dOAjTuK",
        "outputId": "2aae1115-1fc0-4811-b31c-68aba63a432d"
      },
      "execution_count": null,
      "outputs": [
        {
          "output_type": "stream",
          "name": "stdout",
          "text": [
            "3\n"
          ]
        },
        {
          "output_type": "execute_result",
          "data": {
            "text/plain": [
              "6"
            ]
          },
          "metadata": {},
          "execution_count": 71
        }
      ]
    },
    {
      "cell_type": "markdown",
      "source": [
        "\n",
        "# **213. House Robber II**"
      ],
      "metadata": {
        "id": "GYokGIz-W5GD"
      }
    },
    {
      "cell_type": "code",
      "source": [
        "def rob_II(nums):\n",
        "\n",
        "  previous_loot_1, max_loot_1, temp_1 = 0, 0, 0\n",
        "  previous_loot_2, max_loot_2, temp_2 = 0, 0, 0\n",
        "\n",
        "  if len(nums) <= 2:\n",
        "    return max(nums)\n",
        "\n",
        "  for i in range(len(nums) - 1):\n",
        "    if i == 0:\n",
        "      previous_loot_1 = nums[i]\n",
        "    elif i == 1:\n",
        "      max_loot_1 = max(previous_loot_1, nums[i])\n",
        "    else:\n",
        "      temp_1 = max_loot_1\n",
        "      max_loot_1 = max(max_loot_1, nums[i] + previous_loot_1)\n",
        "      previous_loot_1 = temp_1\n",
        "\n",
        "  for j in range(1, len(nums)):\n",
        "    if j == 1:\n",
        "      previous_loot_2 = nums[j]\n",
        "    elif j == 2:\n",
        "      max_loot_2 = max(previous_loot_2, nums[j])\n",
        "    else:\n",
        "      temp_2 = max_loot_2\n",
        "      max_loot_2 = max(max_loot_2, nums[j] + previous_loot_2)\n",
        "      previous_loot_2 = temp_2\n",
        "\n",
        "  return max(max_loot_1, max_loot_2)"
      ],
      "metadata": {
        "id": "DsaGOhgoW-4c"
      },
      "execution_count": null,
      "outputs": []
    },
    {
      "cell_type": "code",
      "source": [
        "rob_II([1,2])"
      ],
      "metadata": {
        "colab": {
          "base_uri": "https://localhost:8080/"
        },
        "id": "6QYCo-o-YCRw",
        "outputId": "c12bd780-56c9-4380-f07b-da13e7f1c524"
      },
      "execution_count": null,
      "outputs": [
        {
          "output_type": "execute_result",
          "data": {
            "text/plain": [
              "2"
            ]
          },
          "metadata": {},
          "execution_count": 33
        }
      ]
    },
    {
      "cell_type": "code",
      "source": [
        "def rob_II(nums):\n",
        "\n",
        "  if len(nums) <= 2:\n",
        "    return max(nums)\n",
        "\n",
        "  def rob_range(start, end):\n",
        "\n",
        "    previous_loot, max_loot, temp = 0, 0, 0\n",
        "\n",
        "    for i in range(start, end):\n",
        "      if i == start:\n",
        "        previous_loot = nums[i]\n",
        "      elif i == start + 1:\n",
        "        max_loot = max(previous_loot, nums[i])\n",
        "      else:\n",
        "        temp = max_loot\n",
        "        max_loot = max(max_loot, nums[i] + previous_loot)\n",
        "        previous_loot = temp\n",
        "\n",
        "    return max_loot\n",
        "\n",
        "  loot_1 = rob_range(0, len(nums) - 1)\n",
        "  loot_2 = rob_range(1, len(nums))\n",
        "\n",
        "  return max(loot_1, loot_2)"
      ],
      "metadata": {
        "id": "MLgY-d65aLgh"
      },
      "execution_count": null,
      "outputs": []
    },
    {
      "cell_type": "code",
      "source": [
        "rob_II([1,2,3,1])"
      ],
      "metadata": {
        "colab": {
          "base_uri": "https://localhost:8080/"
        },
        "id": "dOqojky7bz1k",
        "outputId": "30055893-2afa-482c-e5e8-88be2e90cbae"
      },
      "execution_count": null,
      "outputs": [
        {
          "output_type": "execute_result",
          "data": {
            "text/plain": [
              "4"
            ]
          },
          "metadata": {},
          "execution_count": 35
        }
      ]
    },
    {
      "cell_type": "markdown",
      "source": [
        "# **740. Delete and Earn**"
      ],
      "metadata": {
        "id": "RzfB_wnnxsko"
      }
    },
    {
      "cell_type": "code",
      "source": [
        "def deleteAndEarn(nums):\n",
        "  points_earned = {}\n",
        "  for num in set(nums):\n",
        "    a = nums.index(num)\n",
        "    print(a)\n",
        "    copy = nums[a:] + nums[:a]\n",
        "    print(copy)\n",
        "    points_earned[num] = 0\n",
        "    for value in copy:\n",
        "      temp = value\n",
        "      points_earned[num] += value * copy.count(value)\n",
        "      if temp + 1 in copy:\n",
        "        copy.remove(temp + 1)\n",
        "        #print(copy)\n",
        "      if temp - 1 in copy:\n",
        "        copy.remove(temp - 1)\n",
        "        #print(copy)\n",
        "      copy.remove(temp)\n",
        "      #print(copy)\n",
        "      #if not copy:\n",
        "        #break\n",
        "\n",
        "  return max(points_earned.values())\n"
      ],
      "metadata": {
        "id": "056URYeRxriL"
      },
      "execution_count": null,
      "outputs": []
    },
    {
      "cell_type": "code",
      "source": [
        "deleteAndEarn([3,4,2])"
      ],
      "metadata": {
        "colab": {
          "base_uri": "https://localhost:8080/"
        },
        "id": "IO5Vn9Tg0NYg",
        "outputId": "952924f6-b4f0-4407-9cd0-060ca55ef09b"
      },
      "execution_count": null,
      "outputs": [
        {
          "output_type": "stream",
          "name": "stdout",
          "text": [
            "2\n",
            "[2, 3, 4]\n",
            "0\n",
            "[3, 4, 2]\n",
            "1\n",
            "[4, 2, 3]\n"
          ]
        },
        {
          "output_type": "execute_result",
          "data": {
            "text/plain": [
              "4"
            ]
          },
          "metadata": {},
          "execution_count": 2
        }
      ]
    },
    {
      "cell_type": "code",
      "source": [
        "from collections import Counter\n",
        "def deleteAndEarn(nums):\n",
        "  nums_counter = Counter(nums)\n",
        "  previous_loot, max_loot, temp = 0, 0, 0\n",
        "  points = sorted(nums_counter)\n",
        "\n",
        "  for i in range(len(points)):\n",
        "    if i == 0:\n",
        "      previous_loot = points[i] * nums_counter[points[i]]\n",
        "      max_loot = previous_loot\n",
        "    elif i == 1:\n",
        "      if points[i] - points[i - 1] != 1:\n",
        "        max_loot += points[i] * nums_counter[points[i]]\n",
        "      else:\n",
        "        max_loot = max(previous_loot, points[i] * nums_counter[points[i]])\n",
        "    else:\n",
        "      temp = max_loot\n",
        "      if points[i] - points[i - 1] != 1:\n",
        "        max_loot += points[i] * nums_counter[points[i]]\n",
        "      else:\n",
        "        max_loot = max(max_loot, previous_loot + points[i] * nums_counter[points[i]])\n",
        "      previous_loot = temp\n",
        "\n",
        "  return max_loot\n"
      ],
      "metadata": {
        "id": "7nb-b3VvaaOA"
      },
      "execution_count": null,
      "outputs": []
    },
    {
      "cell_type": "code",
      "source": [
        "deleteAndEarn([1,1,1,1,1,1])"
      ],
      "metadata": {
        "colab": {
          "base_uri": "https://localhost:8080/"
        },
        "id": "wPDiEmvsbrVY",
        "outputId": "12d9ac39-5b84-46a8-e846-68a6dfebe6f6"
      },
      "execution_count": null,
      "outputs": [
        {
          "output_type": "execute_result",
          "data": {
            "text/plain": [
              "6"
            ]
          },
          "metadata": {},
          "execution_count": 14
        }
      ]
    },
    {
      "cell_type": "code",
      "source": [
        "from collections import Counter\n",
        "def deleteAndEarn(nums):\n",
        "  nums_counter = Counter(nums)\n",
        "  points = sorted(nums_counter)\n",
        "  pts_earned = [0] * len(points)\n",
        "\n",
        "  for i in range(len(points)):\n",
        "    if i == 0:\n",
        "      pts_earned[i] = points[i] * nums_counter[points[i]]\n",
        "    elif i == 1:\n",
        "      if points[i] - points[i - 1] != 1:\n",
        "        pts_earned[i] = pts_earned[i - 1] + points[i] * nums_counter[points[i]]\n",
        "      else:\n",
        "        pts_earned[i] = max(pts_earned[i - 1], points[i] * nums_counter[points[i]])\n",
        "    else:\n",
        "      if points[i] - points[i - 1] != 1:\n",
        "        pts_earned[i] = pts_earned[i - 1] + points[i] * nums_counter[points[i]]\n",
        "      else:\n",
        "        pts_earned[i] = max(pts_earned[i - 1], pts_earned[i - 2] + points[i] * nums_counter[points[i]])\n",
        "\n",
        "  return pts_earned[-1]\n"
      ],
      "metadata": {
        "id": "_imwY1fhy951"
      },
      "execution_count": null,
      "outputs": []
    },
    {
      "cell_type": "code",
      "source": [
        "deleteAndEarn([1,6,3,3,8,4,8,10,1,3])"
      ],
      "metadata": {
        "colab": {
          "base_uri": "https://localhost:8080/"
        },
        "id": "JVOqubm1yQcH",
        "outputId": "49ab4e00-8faf-4361-c2cb-f412c9e57229"
      },
      "execution_count": null,
      "outputs": [
        {
          "output_type": "execute_result",
          "data": {
            "text/plain": [
              "43"
            ]
          },
          "metadata": {},
          "execution_count": 11
        }
      ]
    },
    {
      "cell_type": "markdown",
      "source": [
        "# **55. Jump Game**"
      ],
      "metadata": {
        "id": "bbsI2HY7Bg7p"
      }
    },
    {
      "cell_type": "code",
      "source": [
        "def jump(nums):\n",
        "  if not nums or nums[0] == 0:\n",
        "    return False\n",
        "  index, i = 0, 0\n",
        "  while index < len(nums) - 1:\n",
        "    i += index\n",
        "    if nums[i] == 0:\n",
        "      break\n",
        "    if index + nums[i] >= len(nums) - 1:\n",
        "      print(index,i)\n",
        "      return True\n",
        "    else:\n",
        "      result = [(nums[j], j) for j in range(index + 1, nums[i] + 1)]\n",
        "      index = max(result)[1]\n",
        "      print(max(result),index,i)\n",
        "\n",
        "  return False"
      ],
      "metadata": {
        "id": "652xBGvWBoz5"
      },
      "execution_count": null,
      "outputs": []
    },
    {
      "cell_type": "code",
      "source": [
        "jump([2, 0, 2, 0, 1])"
      ],
      "metadata": {
        "colab": {
          "base_uri": "https://localhost:8080/"
        },
        "id": "1I5gPEH0XTRX",
        "outputId": "1ae956a6-027b-45a3-8c56-a5c9f692c326"
      },
      "execution_count": null,
      "outputs": [
        {
          "output_type": "stream",
          "name": "stdout",
          "text": [
            "(2, 2) 2 0\n",
            "2 2\n"
          ]
        },
        {
          "output_type": "execute_result",
          "data": {
            "text/plain": [
              "True"
            ]
          },
          "metadata": {},
          "execution_count": 74
        }
      ]
    },
    {
      "cell_type": "code",
      "source": [
        "def jump(nums):\n",
        "  if len(nums) <= 1:\n",
        "    return True\n",
        "\n",
        "  max_jump = 0\n",
        "\n",
        "  for i in range(len(nums) - 1):\n",
        "    max_jump = max(max_jump, i + nums[i])\n",
        "    if max_jump >= len(nums) - 1:\n",
        "      return True\n",
        "    if max_jump <= i:\n",
        "      return False\n",
        "\n",
        "  return False\n"
      ],
      "metadata": {
        "id": "6eN9ipGuNKQh"
      },
      "execution_count": null,
      "outputs": []
    },
    {
      "cell_type": "code",
      "source": [
        "jump([0,2,0])"
      ],
      "metadata": {
        "colab": {
          "base_uri": "https://localhost:8080/"
        },
        "id": "oAuhmsvtNvbe",
        "outputId": "9a7fa8cc-2da3-4a56-c6e7-735f0ca80423"
      },
      "execution_count": null,
      "outputs": [
        {
          "output_type": "execute_result",
          "data": {
            "text/plain": [
              "False"
            ]
          },
          "metadata": {},
          "execution_count": 35
        }
      ]
    },
    {
      "cell_type": "code",
      "source": [
        "def jump(nums):\n",
        "\n",
        "  if len(nums) == 1:\n",
        "    return True\n",
        "\n",
        "  jump_check = [False] * (len(nums) - 1)\n",
        "  max_jump = [0] * (len(nums) - 1)\n",
        "\n",
        "  for i in range(len(nums) - 1):\n",
        "\n",
        "    if i == 0 and nums[i] != 0:\n",
        "      jump_check[i] = True\n",
        "      max_jump[i] = i + nums[i]\n",
        "\n",
        "    else:\n",
        "      max_jump[i] = max(max_jump[i - 1], i + nums[i])\n",
        "\n",
        "      if jump_check[i - 1] == True and max_jump[i - 1] >= i and max_jump[i] > i:\n",
        "        jump_check[i] = True\n",
        "\n",
        "  print(jump_check, max_jump)\n",
        "  if jump_check[-1] == True:\n",
        "    return True\n",
        "  return False\n"
      ],
      "metadata": {
        "id": "TJT5tEfl8qGI"
      },
      "execution_count": null,
      "outputs": []
    },
    {
      "cell_type": "code",
      "source": [
        "jump([1,0,1,0,1])"
      ],
      "metadata": {
        "colab": {
          "base_uri": "https://localhost:8080/"
        },
        "id": "I_FriW8yA7IB",
        "outputId": "fbf15531-9cca-45cf-e0aa-b6b38a5f9609"
      },
      "execution_count": null,
      "outputs": [
        {
          "output_type": "stream",
          "name": "stdout",
          "text": [
            "[True, False, False, False] [1, 1, 3, 3]\n"
          ]
        },
        {
          "output_type": "execute_result",
          "data": {
            "text/plain": [
              "False"
            ]
          },
          "metadata": {},
          "execution_count": 70
        }
      ]
    },
    {
      "cell_type": "markdown",
      "source": [
        "# **45. Jump Game II**"
      ],
      "metadata": {
        "id": "a89Nk45sjxwG"
      }
    },
    {
      "cell_type": "code",
      "source": [
        "def jumpII(nums):\n",
        "  if len(nums) == 1:\n",
        "    return 0\n",
        "  jump_end, max_jump, count = 0, 0, 0\n",
        "  for i in range(len(nums) - 1):\n",
        "    max_jump = max(max_jump, i + nums[i])\n",
        "    if jump_end == i:\n",
        "      count += 1\n",
        "      jump_end = max_jump\n",
        "      print(jump_end, max_jump, count)\n",
        "      if max_jump >= len(nums) - 1:\n",
        "        return count\n"
      ],
      "metadata": {
        "id": "7tlVF0L_jxDl"
      },
      "execution_count": null,
      "outputs": []
    },
    {
      "cell_type": "code",
      "source": [
        "jumpII([1,2,3,4,5,6,1,1,1,1,1])"
      ],
      "metadata": {
        "colab": {
          "base_uri": "https://localhost:8080/"
        },
        "id": "Furlk8IPkkqg",
        "outputId": "92dff26c-6344-4a7e-f9ce-61302ea5606a"
      },
      "execution_count": null,
      "outputs": [
        {
          "output_type": "stream",
          "name": "stdout",
          "text": [
            "1 1 1\n",
            "3 3 2\n",
            "7 7 3\n",
            "11 11 4\n"
          ]
        },
        {
          "output_type": "execute_result",
          "data": {
            "text/plain": [
              "4"
            ]
          },
          "metadata": {},
          "execution_count": 17
        }
      ]
    },
    {
      "cell_type": "code",
      "source": [
        "def jumpII(nums):\n",
        "  if len(nums) == 1:\n",
        "    return 0\n",
        "  max_jump = [0] * len(nums)\n",
        "  jump_count = [0] * len(nums)\n",
        "  #jump_end= 0\n",
        "  for i in range(len(nums)):\n",
        "    if i == 0:\n",
        "      max_jump[i] = nums[i]\n",
        "      #jump_end = nums[i]\n",
        "    else:\n",
        "      max_jump[i] = max(max_jump[i - 1], i + nums[i])\n",
        "      for j in range(i):\n",
        "        if max_jump[j] >= i:\n",
        "          jump_count[i] = jump_count[j] + 1\n",
        "          break\n",
        "\n",
        "  return jump_count[-1]\n"
      ],
      "metadata": {
        "id": "FFSRpXP_XT2J"
      },
      "execution_count": null,
      "outputs": []
    },
    {
      "cell_type": "code",
      "source": [
        "jumpII([1,2])"
      ],
      "metadata": {
        "colab": {
          "base_uri": "https://localhost:8080/"
        },
        "id": "iwDQRy57YRXe",
        "outputId": "0cc55b89-c5cb-433e-dcd0-228d019c3f5f"
      },
      "execution_count": null,
      "outputs": [
        {
          "output_type": "execute_result",
          "data": {
            "text/plain": [
              "1"
            ]
          },
          "metadata": {},
          "execution_count": 35
        }
      ]
    },
    {
      "cell_type": "code",
      "source": [
        "def jumpII(nums):\n",
        "  if len(nums) == 1:\n",
        "    return 0\n",
        "  jump_count = [0] * len(nums)\n",
        "\n",
        "  for i in range(1, len(nums)):\n",
        "      for j in range(i):\n",
        "        if j + nums[j] >= i:\n",
        "          jump_count[i] = jump_count[j] + 1\n",
        "          break\n",
        "\n",
        "  return jump_count[-1]\n"
      ],
      "metadata": {
        "id": "yQmFh7-_LDgT"
      },
      "execution_count": null,
      "outputs": []
    },
    {
      "cell_type": "code",
      "source": [
        "jumpII([1,2,3,4,5,6,1,1,1,1,1])"
      ],
      "metadata": {
        "colab": {
          "base_uri": "https://localhost:8080/"
        },
        "id": "vFSiuxFZLWCS",
        "outputId": "d18b08fa-24a3-4a91-f48d-982f77a7e4f5"
      },
      "execution_count": null,
      "outputs": [
        {
          "output_type": "execute_result",
          "data": {
            "text/plain": [
              "1"
            ]
          },
          "metadata": {},
          "execution_count": 41
        }
      ]
    }
  ]
}